{
 "cells": [
  {
   "cell_type": "markdown",
   "metadata": {},
   "source": [
    "# <b> <p align=\"center\"> <span style=\"color: #DCC43C\"> GOING MODULER <span> </p> </b>\n",
    "### <b> <p align=\"center\"> <span style=\"color: #BFF0FF\"> script mode <span> </p> </b>"
   ]
  },
  {
   "cell_type": "markdown",
   "metadata": {},
   "source": []
  }
 ],
 "metadata": {
  "language_info": {
   "name": "python"
  }
 },
 "nbformat": 4,
 "nbformat_minor": 2
}
