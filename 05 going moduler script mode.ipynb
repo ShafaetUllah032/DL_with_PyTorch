{
 "cells": [
  {
   "cell_type": "markdown",
   "metadata": {},
   "source": [
    "# <b> <p align=\"center\"> <span style=\"color: #DCC43C\"> GOING MODULER <span> </p> </b>\n",
    "### <b> <p align=\"center\"> <span style=\"color: #BFF0FF\"> script mode <span> </p> </b>"
   ]
  },
  {
   "cell_type": "markdown",
   "metadata": {},
   "source": [
    "## What is script mode?\n",
    "\n",
    "**Script mode** uses [Jupyter Notebook cell magic](https://ipython.readthedocs.io/en/stable/interactive/magics.html) (special commands) to turn specific cells into Python scripts.\n",
    "\n",
    "For example if you run the following code in a cell, you'll create a Python file called `hello_world.py`:\n",
    "\n",
    "```\n",
    "%%writefile hello_world.py\n",
    "print(\"hello world, machine learning is fun!\")\n",
    "```\n",
    "\n",
    "You could then run this Python file on the command line with:\n",
    "\n",
    "```\n",
    "python hello_world.py\n",
    "\n",
    ">>> hello world, machine learning is fun!\n",
    "```\n",
    "\n",
    "The main cell magic we're interested in using is `%%writefile`.\n",
    "\n",
    "Putting `%%writefile filename` at the top of a cell in Jupyter or Google Colab will write the contents of that cell to a specified `filename`.\n",
    "\n",
    "> **Question:** Do I have to create Python files like this? Can't I just start directly with a Python file and skip using a Google Colab notebook?\n",
    ">\n",
    "> **Answer:** Yes. This is only *one* way of creating Python scripts. If you know the kind of script you'd like to write, you could start writing it straight away. But since using Jupyter/Google Colab notebooks is a popular way of starting off data science and machine learning projects, knowing about the `%%writefile` magic command is a handy tip."
   ]
  },
  {
   "cell_type": "markdown",
   "metadata": {},
   "source": [
    "## What has script mode got to do with PyTorch?\n",
    "\n",
    "If you've written some useful code in a Jupyter Notebook or Google Colab notebook, chances are you'll want to use that code again.\n",
    "\n",
    "And turning your useful cells into Python scripts (`.py` files) means you can use specific pieces of your code in other projects.\n",
    "\n",
    "This practice is not PyTorch specific.\n",
    "\n",
    "But it's how you'll see many different online PyTorch repositories structured."
   ]
  },
  {
   "cell_type": "markdown",
   "metadata": {},
   "source": [
    "### PyTorch in the wild\n",
    "\n",
    "For example, if you find a PyTorch project on GitHub, it may be structured in the following way:\n",
    "\n",
    "```\n",
    "pytorch_project/\n",
    "├── pytorch_project/\n",
    "│   ├── data_setup.py\n",
    "│   ├── engine.py\n",
    "│   ├── model.py\n",
    "│   ├── train.py\n",
    "│   └── utils.py\n",
    "├── models/\n",
    "│   ├── model_1.pth\n",
    "│   └── model_2.pth\n",
    "└── data/\n",
    "    ├── data_folder_1/\n",
    "    └── data_folder_2/\n",
    "```\n",
    "\n",
    "Here, the top level directory is called `pytorch_project` but you could call it whatever you want.\n",
    "\n",
    "Inside there's another directory called `pytorch_project` which contains several `.py` files, the purposes of these may be:\n",
    "* `data_setup.py` - a file to prepare data (and download data if needed).\n",
    "* `engine.py` - a file containing various training functions.\n",
    "* `model_builder.py` or `model.py` - a file to create a PyTorch model.\n",
    "* `train.py` - a file to leverage all other files and train a target PyTorch model.\n",
    "* `utils.py` - a file dedicated to helpful utility functions.\n",
    "\n",
    "And the `models` and `data` directories could hold PyTorch models and data files respectively (though due to the size of models and data files, it's unlikely you'll find the *full* versions of these on GitHub, these directories are present above mainly for demonstration purposes).\n",
    "\n",
    "> **Note:** There are many different ways to structure a Python project and subsequently a PyTorch project. This isn't a guide on *how* to structure your projects, only an example of how you *might* come across PyTorch projects in the wild. For more on structuring Python projects, see Real Python's [*Python Application Layouts: A Reference*](https://realpython.com/python-application-layouts/) guide."
   ]
  },
  {
   "cell_type": "markdown",
   "metadata": {},
   "source": [
    "## What we're going to cover\n",
    "\n",
    "By the end of this notebook you should finish with a directory structure of:\n",
    "\n",
    "```\n",
    "going_modular/\n",
    "├── going_modular/\n",
    "│   ├── data_setup.py\n",
    "│   ├── engine.py\n",
    "│   ├── model_builder.py\n",
    "│   ├── train.py\n",
    "│   └── utils.py\n",
    "├── models/\n",
    "│   ├── 05_going_modular_cell_mode_tinyvgg_model.pth\n",
    "│   └── 05_going_modular_script_mode_tinyvgg_model.pth\n",
    "└── data/\n",
    "    └── pizza_steak_sushi/\n",
    "        ├── train/\n",
    "        │   ├── pizza/\n",
    "        │   │   ├── image01.jpeg\n",
    "        │   │   └── ...\n",
    "        │   ├── steak/\n",
    "        │   └── sushi/\n",
    "        └── test/\n",
    "            ├── pizza/\n",
    "            ├── steak/\n",
    "            └── sushi/\n",
    "```\n",
    "\n",
    "Using this directory structure, you should be able to train a model from within a notebook with the command:\n",
    "\n",
    "```\n",
    "!python going_modular/train.py\n",
    "```\n",
    "\n",
    "Or from the command line with:\n",
    "\n",
    "```\n",
    "python going_modular/train.py\n",
    "```\n",
    "\n",
    "In essence, we will have turned our helpful notebook code into **reusable modular code**."
   ]
  },
  {
   "cell_type": "markdown",
   "metadata": {},
   "source": [
    "## 0. Creating a folder for storing Python scripts\n",
    "\n",
    "Since we're going to be creating Python scripts out of our most useful code cells, let's create a folder for storing those scripts.\n",
    "\n",
    "We'll call the folder `going_modular` and create it using Python's [`os.makedirs()`](https://docs.python.org/3/library/os.html) method."
   ]
  },
  {
   "cell_type": "code",
   "execution_count": 2,
   "metadata": {},
   "outputs": [],
   "source": [
    "import os \n",
    "\n",
    "os.makedirs(\"going_moduler\",exist_ok=True)"
   ]
  },
  {
   "cell_type": "markdown",
   "metadata": {},
   "source": [
    "## 1. Get data\n",
    "\n",
    "We're going to start by downloading the same data we used in [notebook 04](https://github.com/ShafaetUllah032/DL_with_PyTorch/blob/main/04%20pytorch%20custom%20dataset.ipynb), the `pizza_steak_sushi` dataset with images of pizza, steak and sushi."
   ]
  },
  {
   "cell_type": "code",
   "execution_count": null,
   "metadata": {},
   "outputs": [],
   "source": [
    "# from google.oauth2 import service_account\n",
    "# from googleapiclient.discovery import build\n",
    "# import requests\n",
    "# import os\n",
    "\n",
    "# # Path to the credentials.json file you downloaded\n",
    "# credentials_path = 'credentials.json'\n",
    "\n",
    "# # Authenticate using the service account\n",
    "# SCOPES = ['https://www.googleapis.com/auth/drive.readonly']\n",
    "# creds = service_account.Credentials.from_service_account_file(credentials_path, scopes=SCOPES)\n",
    "# service = build('drive', 'v3', credentials=creds)\n",
    "\n",
    "# # Folder ID from the shareable link\n",
    "# folder_id = 'YOUR_FOLDER_ID_HERE'\n",
    "\n",
    "# # List files in the folder\n",
    "# results = service.files().list(q=f\"'{folder_id}' in parents\", fields=\"files(id, name)\").execute()\n",
    "# files = results.get('files', [])\n",
    "\n",
    "# if not files:\n",
    "#     print('No files found.')\n",
    "# else:\n",
    "#     print('Files:')\n",
    "#     for file in files:\n",
    "#         print(f\"{file['name']} ({file['id']})\")\n",
    "\n",
    "#     # Create a folder to save the downloaded files\n",
    "#     download_folder = 'downloaded_images'\n",
    "#     os.makedirs(download_folder, exist_ok=True)\n",
    "\n",
    "#     # Download each file\n",
    "#     for file in files:\n",
    "#         file_id = file['id']\n",
    "#         file_name = file['name']\n",
    "#         request = service.files().get_media(fileId=file_id)\n",
    "#         file_path = os.path.join(download_folder, file_name)\n",
    "\n",
    "#         with open(file_path, 'wb') as f:\n",
    "#             downloader = requests.get(f\"https://www.googleapis.com/drive/v3/files/{file_id}?alt=media\", headers={\"Authorization\": f\"Bearer {creds.token}\"})\n",
    "#             f.write(downloader.content)\n",
    "#             print(f\"Downloaded {file_name}\")\n"
   ]
  },
  {
   "cell_type": "code",
   "execution_count": 2,
   "metadata": {},
   "outputs": [
    {
     "name": "stdout",
     "output_type": "stream",
     "text": [
      "data\\pizza_steak_sushi exist no need to create ..\n",
      "Downloading pizza, steak, sushi data...\n",
      "Unzipping pizza, steak, sushi data...\n",
      "zip file removed ... \n"
     ]
    }
   ],
   "source": [
    "import os\n",
    "import zipfile\n",
    "from pathlib import Path\n",
    "import requests\n",
    "\n",
    "# setup path to data folder\n",
    "\n",
    "data_path=Path(\"data/\")\n",
    "image_path=data_path/\"pizza_steak_sushi\"\n",
    "\n",
    "\n",
    "# If the imamge floder doesn't exist , download it and prepare it\n",
    "\n",
    "if image_path.is_dir():\n",
    "    print(f\"{image_path} exist no need to create ..\")\n",
    "else:\n",
    "    image_path.mkdir(parents=True,exist_ok=True)\n",
    "    print(f\"{image_path} created successfully\")\n",
    "\n",
    "\n",
    "# Downlod pizza, steak, sushi data\n",
    "\n",
    "with open(data_path / \"pizza_steak_sushi.zip\", \"wb\") as f:\n",
    "    request = requests.get(\"https://github.com/mrdbourke/pytorch-deep-learning/raw/main/data/pizza_steak_sushi.zip\")\n",
    "    print(\"Downloading pizza, steak, sushi data...\")\n",
    "    f.write(request.content)\n",
    "\n",
    "# Unzip pizza, steak, sushi data\n",
    "with zipfile.ZipFile(data_path / \"pizza_steak_sushi.zip\", \"r\") as zip_ref:\n",
    "    print(\"Unzipping pizza, steak, sushi data...\")\n",
    "    zip_ref.extractall(image_path)\n",
    "\n",
    "# Remove zip file\n",
    "os.remove(data_path / \"pizza_steak_sushi.zip\")\n",
    "print(\"zip file removed ... \")"
   ]
  },
  {
   "cell_type": "code",
   "execution_count": 3,
   "metadata": {},
   "outputs": [
    {
     "data": {
      "text/plain": [
       "(WindowsPath('data/pizza_steak_sushi/train'),\n",
       " WindowsPath('data/pizza_steak_sushi/test'))"
      ]
     },
     "execution_count": 3,
     "metadata": {},
     "output_type": "execute_result"
    }
   ],
   "source": [
    "# Setup train and testing paths\n",
    "\n",
    "train_dir=image_path/\"train\" \n",
    "test_dir=image_path/\"test\"\n",
    "\n",
    "train_dir,test_dir"
   ]
  },
  {
   "cell_type": "markdown",
   "metadata": {},
   "source": [
    "## 2. Create Datasets and DataLoaders\n",
    "\n",
    "Let's turn our data into PyTorch `Dataset`'s and `DataLoader`'s and find out a few useful attributes from them such as `classes` and their lengths."
   ]
  },
  {
   "cell_type": "code",
   "execution_count": 5,
   "metadata": {},
   "outputs": [
    {
     "name": "stdout",
     "output_type": "stream",
     "text": [
      "Train data:\n",
      "Dataset ImageFolder\n",
      "    Number of datapoints: 225\n",
      "    Root location: data\\pizza_steak_sushi\\train\n",
      "    StandardTransform\n",
      "Transform: Compose(\n",
      "               Resize(size=(64, 64), interpolation=bilinear, max_size=None, antialias=True)\n",
      "               ToTensor()\n",
      "           )\n",
      "Test data:\n",
      "Dataset ImageFolder\n",
      "    Number of datapoints: 75\n",
      "    Root location: data\\pizza_steak_sushi\\test\n",
      "    StandardTransform\n",
      "Transform: Compose(\n",
      "               Resize(size=(64, 64), interpolation=bilinear, max_size=None, antialias=True)\n",
      "               ToTensor()\n",
      "           )\n"
     ]
    }
   ],
   "source": [
    "from torchvision import datasets, transforms\n",
    "\n",
    "# Create simple transform\n",
    "\n",
    "data_transform=transforms.Compose([\n",
    "    transforms.Resize((64,64)),\n",
    "    transforms.ToTensor(),\n",
    "])\n",
    "\n",
    "# Use ImageFolder to create dataset(s)\n",
    "train_data = datasets.ImageFolder(root=train_dir, # target folder of images\n",
    "                                  transform=data_transform, # transforms to perform on data (images)\n",
    "                                  target_transform=None) # transforms to perform on labels (if necessary)\n",
    "\n",
    "test_data = datasets.ImageFolder(root=test_dir,\n",
    "                                 transform=data_transform)\n",
    "\n",
    "print(f\"Train data:\\n{train_data}\\nTest data:\\n{test_data}\")"
   ]
  },
  {
   "cell_type": "code",
   "execution_count": 6,
   "metadata": {},
   "outputs": [
    {
     "data": {
      "text/plain": [
       "['pizza', 'steak', 'sushi']"
      ]
     },
     "execution_count": 6,
     "metadata": {},
     "output_type": "execute_result"
    }
   ],
   "source": [
    "# Get class names as a list\n",
    "class_names = train_data.classes\n",
    "class_names"
   ]
  },
  {
   "cell_type": "code",
   "execution_count": 7,
   "metadata": {},
   "outputs": [
    {
     "data": {
      "text/plain": [
       "{'pizza': 0, 'steak': 1, 'sushi': 2}"
      ]
     },
     "execution_count": 7,
     "metadata": {},
     "output_type": "execute_result"
    }
   ],
   "source": [
    "# Can also get class names as a dict\n",
    "class_dict = train_data.class_to_idx\n",
    "class_dict"
   ]
  },
  {
   "cell_type": "code",
   "execution_count": 8,
   "metadata": {},
   "outputs": [
    {
     "data": {
      "text/plain": [
       "(225, 75)"
      ]
     },
     "execution_count": 8,
     "metadata": {},
     "output_type": "execute_result"
    }
   ],
   "source": [
    "# Check the lengths\n",
    "len(train_data), len(test_data)"
   ]
  },
  {
   "cell_type": "code",
   "execution_count": 9,
   "metadata": {},
   "outputs": [
    {
     "data": {
      "text/plain": [
       "(<torch.utils.data.dataloader.DataLoader at 0x1b75ac263d0>,\n",
       " <torch.utils.data.dataloader.DataLoader at 0x1b75ac26f40>)"
      ]
     },
     "execution_count": 9,
     "metadata": {},
     "output_type": "execute_result"
    }
   ],
   "source": [
    "# Turn train and test Datasets into DataLoaders\n",
    "from torch.utils.data import DataLoader\n",
    "\n",
    "train_dataloader = DataLoader(dataset=train_data,\n",
    "                              batch_size=1, # how many samples per batch?\n",
    "                              num_workers=1, # how many subprocesses to use for data loading? (higher = more)\n",
    "                              shuffle=True) # shuffle the data?\n",
    "\n",
    "test_dataloader = DataLoader(dataset=test_data,\n",
    "                             batch_size=1,\n",
    "                             num_workers=1,\n",
    "                             shuffle=False) # don't usually need to shuffle testing data\n",
    "\n",
    "train_dataloader, test_dataloader"
   ]
  },
  {
   "cell_type": "code",
   "execution_count": 10,
   "metadata": {},
   "outputs": [
    {
     "name": "stdout",
     "output_type": "stream",
     "text": [
      "Image shape: torch.Size([1, 3, 64, 64]) -> [batch_size, color_channels, height, width]\n",
      "Label shape: torch.Size([1])\n"
     ]
    }
   ],
   "source": [
    "# Check out single image size/shape\n",
    "img, label = next(iter(train_dataloader))\n",
    "\n",
    "# Batch size will now be 1, try changing the batch_size parameter above and see what happens\n",
    "print(f\"Image shape: {img.shape} -> [batch_size, color_channels, height, width]\")\n",
    "print(f\"Label shape: {label.shape}\")"
   ]
  },
  {
   "cell_type": "code",
   "execution_count": null,
   "metadata": {},
   "outputs": [],
   "source": []
  }
 ],
 "metadata": {
  "kernelspec": {
   "display_name": "torchWithCuda",
   "language": "python",
   "name": "python3"
  },
  "language_info": {
   "codemirror_mode": {
    "name": "ipython",
    "version": 3
   },
   "file_extension": ".py",
   "mimetype": "text/x-python",
   "name": "python",
   "nbconvert_exporter": "python",
   "pygments_lexer": "ipython3",
   "version": "3.8.19"
  }
 },
 "nbformat": 4,
 "nbformat_minor": 2
}
