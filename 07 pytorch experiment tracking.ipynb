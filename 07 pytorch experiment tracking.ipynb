{
 "cells": [
  {
   "cell_type": "markdown",
   "metadata": {},
   "source": [
    "# <b> <p align=\"center\"> <span style=\"color: #DCC43C\"> PYTORCH EXPERIMENT TRACKING <span> </p> </b>\n",
    "### <b> <p align=\"center\"> <span style=\"color: #BFF0FF\"> let's explore <span> </p> </b>"
   ]
  },
  {
   "cell_type": "markdown",
   "metadata": {},
   "source": [
    "Machine learning is experimental . \n",
    "\n",
    "To know which experments are worth pursuing that's where **Experimental tracking** comes in to figure out what doesn't work so you can figure out what does work.\n",
    "\n",
    "In this notebook, we're going to see an example fo programmatically tracking experiments"
   ]
  },
  {
   "cell_type": "code",
   "execution_count": 1,
   "metadata": {},
   "outputs": [
    {
     "name": "stdout",
     "output_type": "stream",
     "text": [
      "2.3.0 0.18.0\n"
     ]
    }
   ],
   "source": [
    "import torch \n",
    "import torchvision\n",
    "\n",
    "print(torch.__version__, torchvision.__version__)"
   ]
  },
  {
   "cell_type": "code",
   "execution_count": null,
   "metadata": {},
   "outputs": [],
   "source": []
  }
 ],
 "metadata": {
  "kernelspec": {
   "display_name": "torchWithCuda",
   "language": "python",
   "name": "python3"
  },
  "language_info": {
   "codemirror_mode": {
    "name": "ipython",
    "version": 3
   },
   "file_extension": ".py",
   "mimetype": "text/x-python",
   "name": "python",
   "nbconvert_exporter": "python",
   "pygments_lexer": "ipython3",
   "version": "3.8.19"
  }
 },
 "nbformat": 4,
 "nbformat_minor": 2
}
