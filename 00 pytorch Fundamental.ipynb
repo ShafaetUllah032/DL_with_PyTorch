{
 "cells": [
  {
   "cell_type": "markdown",
   "metadata": {},
   "source": [
    "# <span style=\"color:Red\">00. PyTorch Fundamentals </span>"
   ]
  },
  {
   "cell_type": "markdown",
   "metadata": {},
   "source": [
    "- What is pytorch\n",
    "- Why we should use pytorch\n",
    "- Let's starts"
   ]
  },
  {
   "cell_type": "code",
   "execution_count": 1,
   "metadata": {},
   "outputs": [],
   "source": [
    "import torch\n",
    "import numpy as np\n",
    "import pandas as pd"
   ]
  },
  {
   "cell_type": "code",
   "execution_count": 2,
   "metadata": {},
   "outputs": [
    {
     "name": "stdout",
     "output_type": "stream",
     "text": [
      "1.8.1+cu101\n"
     ]
    }
   ],
   "source": [
    "print(torch.__version__)"
   ]
  },
  {
   "cell_type": "code",
   "execution_count": 3,
   "metadata": {},
   "outputs": [
    {
     "data": {
      "text/plain": [
       "True"
      ]
     },
     "execution_count": 3,
     "metadata": {},
     "output_type": "execute_result"
    }
   ],
   "source": [
    "torch.cuda.is_available()"
   ]
  },
  {
   "cell_type": "code",
   "execution_count": 4,
   "metadata": {},
   "outputs": [
    {
     "data": {
      "text/plain": [
       "'cuda'"
      ]
     },
     "execution_count": 4,
     "metadata": {},
     "output_type": "execute_result"
    }
   ],
   "source": [
    "# Set device type\n",
    "device = \"cuda\" if torch.cuda.is_available() else \"cpu\"\n",
    "device"
   ]
  },
  {
   "cell_type": "code",
   "execution_count": 5,
   "metadata": {},
   "outputs": [
    {
     "data": {
      "text/plain": [
       "1"
      ]
     },
     "execution_count": 5,
     "metadata": {},
     "output_type": "execute_result"
    }
   ],
   "source": [
    "# Count number of devices\n",
    "torch.cuda.device_count()"
   ]
  },
  {
   "cell_type": "markdown",
   "metadata": {},
   "source": [
    "# Intruduction to Tensor()"
   ]
  },
  {
   "cell_type": "code",
   "execution_count": 6,
   "metadata": {},
   "outputs": [
    {
     "data": {
      "text/plain": [
       "tensor(7)"
      ]
     },
     "execution_count": 6,
     "metadata": {},
     "output_type": "execute_result"
    }
   ],
   "source": [
    "#scaler\n",
    "scaler=torch.tensor(7)\n",
    "scaler"
   ]
  },
  {
   "cell_type": "code",
   "execution_count": 7,
   "metadata": {},
   "outputs": [
    {
     "data": {
      "text/plain": [
       "7"
      ]
     },
     "execution_count": 7,
     "metadata": {},
     "output_type": "execute_result"
    }
   ],
   "source": [
    "scaler.item()"
   ]
  },
  {
   "cell_type": "code",
   "execution_count": 8,
   "metadata": {},
   "outputs": [
    {
     "name": "stdout",
     "output_type": "stream",
     "text": [
      "torch.Size([])\n",
      "0\n"
     ]
    }
   ],
   "source": [
    "print(scaler.shape)\n",
    "print(scaler.ndim)"
   ]
  },
  {
   "cell_type": "code",
   "execution_count": 9,
   "metadata": {},
   "outputs": [
    {
     "data": {
      "text/plain": [
       "tensor([ 8,  9, 10])"
      ]
     },
     "execution_count": 9,
     "metadata": {},
     "output_type": "execute_result"
    }
   ],
   "source": [
    "#vector\n",
    "\n",
    "vector=torch.tensor([8,9,10])\n",
    "vector"
   ]
  },
  {
   "cell_type": "code",
   "execution_count": 10,
   "metadata": {},
   "outputs": [
    {
     "data": {
      "text/plain": [
       "1"
      ]
     },
     "execution_count": 10,
     "metadata": {},
     "output_type": "execute_result"
    }
   ],
   "source": [
    "vector.ndim"
   ]
  },
  {
   "cell_type": "code",
   "execution_count": 11,
   "metadata": {},
   "outputs": [
    {
     "name": "stdout",
     "output_type": "stream",
     "text": [
      "tensor([[1, 2, 3],\n",
      "        [6, 7, 8]])\n"
     ]
    }
   ],
   "source": [
    "# Matrix\n",
    "\n",
    "matrix=torch.tensor([[1,2,3],\n",
    "              [6,7,8]])\n",
    "print(matrix)"
   ]
  },
  {
   "cell_type": "code",
   "execution_count": 12,
   "metadata": {},
   "outputs": [
    {
     "data": {
      "text/plain": [
       "2"
      ]
     },
     "execution_count": 12,
     "metadata": {},
     "output_type": "execute_result"
    }
   ],
   "source": [
    "matrix.ndim # this is instance "
   ]
  },
  {
   "cell_type": "code",
   "execution_count": 13,
   "metadata": {},
   "outputs": [
    {
     "data": {
      "text/plain": [
       "torch.Size([2, 3])"
      ]
     },
     "execution_count": 13,
     "metadata": {},
     "output_type": "execute_result"
    }
   ],
   "source": [
    "matrix.size() # this is a method"
   ]
  },
  {
   "cell_type": "code",
   "execution_count": 14,
   "metadata": {},
   "outputs": [],
   "source": [
    " #Tensor \n",
    "\n",
    "tensr=torch.tensor([[[1,2,3],\n",
    "                      [4,5,6],\n",
    "                      [12,3,4]]])"
   ]
  },
  {
   "cell_type": "code",
   "execution_count": 15,
   "metadata": {},
   "outputs": [
    {
     "data": {
      "text/plain": [
       "torch.Size([1, 3, 3])"
      ]
     },
     "execution_count": 15,
     "metadata": {},
     "output_type": "execute_result"
    }
   ],
   "source": [
    "tensr.shape"
   ]
  },
  {
   "cell_type": "code",
   "execution_count": 16,
   "metadata": {},
   "outputs": [
    {
     "data": {
      "text/plain": [
       "3"
      ]
     },
     "execution_count": 16,
     "metadata": {},
     "output_type": "execute_result"
    }
   ],
   "source": [
    "tensr.ndim"
   ]
  },
  {
   "cell_type": "code",
   "execution_count": 17,
   "metadata": {},
   "outputs": [],
   "source": [
    "demo=torch.tensor([[[1,2,3],\n",
    "                    [5,6,7],\n",
    "                    [0,9,3]],\n",
    "                    [[7,4,4],\n",
    "                     [32,54,25],\n",
    "                     [1,35,324]]])"
   ]
  },
  {
   "cell_type": "code",
   "execution_count": 18,
   "metadata": {},
   "outputs": [
    {
     "data": {
      "text/plain": [
       "3"
      ]
     },
     "execution_count": 18,
     "metadata": {},
     "output_type": "execute_result"
    }
   ],
   "source": [
    "demo.ndim"
   ]
  },
  {
   "cell_type": "code",
   "execution_count": 19,
   "metadata": {},
   "outputs": [
    {
     "data": {
      "text/plain": [
       "torch.Size([2, 3, 3])"
      ]
     },
     "execution_count": 19,
     "metadata": {},
     "output_type": "execute_result"
    }
   ],
   "source": [
    "demo.shape"
   ]
  },
  {
   "cell_type": "code",
   "execution_count": 20,
   "metadata": {},
   "outputs": [
    {
     "data": {
      "text/plain": [
       "torch.Size([2, 3, 3])"
      ]
     },
     "execution_count": 20,
     "metadata": {},
     "output_type": "execute_result"
    }
   ],
   "source": [
    "demo.shape"
   ]
  },
  {
   "cell_type": "markdown",
   "metadata": {},
   "source": [
    "# Ramdom Tensor"
   ]
  },
  {
   "cell_type": "markdown",
   "metadata": {},
   "source": [
    "### Why random tensor ?\n",
    "\n",
    "Random tensors are importan becauses the way many neural networks learn is that they start with tensor full of random numbers and then adjust those random numbers to better represent the data.\n",
    "\n",
    "<span style= 'color : cyan' >  Statrt with random numbers -> look at data -> update the random numbers -> look at data -> update the random numbers  </span>"
   ]
  },
  {
   "cell_type": "code",
   "execution_count": 21,
   "metadata": {},
   "outputs": [
    {
     "data": {
      "text/plain": [
       "tensor([[0.7147, 0.6306, 0.3344, 0.8773],\n",
       "        [0.6496, 0.3997, 0.8000, 0.2674],\n",
       "        [0.8822, 0.1816, 0.4585, 0.6189]])"
      ]
     },
     "execution_count": 21,
     "metadata": {},
     "output_type": "execute_result"
    }
   ],
   "source": [
    "# create a random tensor of size (3,4)\n",
    "\n",
    "random_tensor=torch.rand(3,4)\n",
    "random_tensor"
   ]
  },
  {
   "cell_type": "code",
   "execution_count": 22,
   "metadata": {},
   "outputs": [
    {
     "data": {
      "text/plain": [
       "tensor([[[[0.7240, 0.0931, 0.8601, 0.7005],\n",
       "          [0.0400, 0.6128, 0.7867, 0.0924],\n",
       "          [0.8091, 0.5419, 0.0317, 0.5205]],\n",
       "\n",
       "         [[0.9304, 0.4265, 0.4554, 0.7640],\n",
       "          [0.0939, 0.8513, 0.7788, 0.8515],\n",
       "          [0.8983, 0.9955, 0.8955, 0.0747]]],\n",
       "\n",
       "\n",
       "        [[[0.8779, 0.8416, 0.0248, 0.4873],\n",
       "          [0.8217, 0.0316, 0.7673, 0.6427],\n",
       "          [0.5672, 0.0339, 0.2571, 0.1924]],\n",
       "\n",
       "         [[0.3595, 0.8806, 0.0398, 0.0496],\n",
       "          [0.8080, 0.7626, 0.6539, 0.0562],\n",
       "          [0.5220, 0.5127, 0.8475, 0.9831]]]])"
      ]
     },
     "execution_count": 22,
     "metadata": {},
     "output_type": "execute_result"
    }
   ],
   "source": [
    "# create a random tensor of size(2,2,3,4)\n",
    "\n",
    "random_tensor1=torch.rand(2,2,3,4)\n",
    "random_tensor1"
   ]
  },
  {
   "cell_type": "code",
   "execution_count": 23,
   "metadata": {},
   "outputs": [
    {
     "data": {
      "text/plain": [
       "4"
      ]
     },
     "execution_count": 23,
     "metadata": {},
     "output_type": "execute_result"
    }
   ],
   "source": [
    "random_tensor.ndim\n",
    "random_tensor1.ndim"
   ]
  },
  {
   "cell_type": "code",
   "execution_count": 24,
   "metadata": {},
   "outputs": [],
   "source": [
    "# create a random tensor with similar shape to and image tensor\n",
    "\n",
    "random_image_size_tesor= torch.rand(size=(3,224,224)) # sometimes color channels comes first\n",
    "#random_image_size_tesor"
   ]
  },
  {
   "cell_type": "code",
   "execution_count": 25,
   "metadata": {},
   "outputs": [
    {
     "data": {
      "text/plain": [
       "(torch.Size([3, 224, 224]), 3)"
      ]
     },
     "execution_count": 25,
     "metadata": {},
     "output_type": "execute_result"
    }
   ],
   "source": [
    "random_image_size_tesor.shape,random_image_size_tesor.ndim"
   ]
  },
  {
   "cell_type": "markdown",
   "metadata": {},
   "source": [
    "### Zerors and ones"
   ]
  },
  {
   "cell_type": "code",
   "execution_count": 26,
   "metadata": {},
   "outputs": [
    {
     "data": {
      "text/plain": [
       "tensor([[[0., 0., 0., 0.],\n",
       "         [0., 0., 0., 0.],\n",
       "         [0., 0., 0., 0.]],\n",
       "\n",
       "        [[0., 0., 0., 0.],\n",
       "         [0., 0., 0., 0.],\n",
       "         [0., 0., 0., 0.]]])"
      ]
     },
     "execution_count": 26,
     "metadata": {},
     "output_type": "execute_result"
    }
   ],
   "source": [
    "# create a tensor of all zeros\n",
    "\n",
    "zeroes =torch.zeros(size=(2,3,4))\n",
    "zeroes\n"
   ]
  },
  {
   "cell_type": "code",
   "execution_count": 27,
   "metadata": {},
   "outputs": [
    {
     "data": {
      "text/plain": [
       "tensor([[[0., 0., 0., 0.],\n",
       "         [0., 0., 0., 0.],\n",
       "         [0., 0., 0., 0.]],\n",
       "\n",
       "        [[0., 0., 0., 0.],\n",
       "         [0., 0., 0., 0.],\n",
       "         [0., 0., 0., 0.]]])"
      ]
     },
     "execution_count": 27,
     "metadata": {},
     "output_type": "execute_result"
    }
   ],
   "source": [
    "zeroes*random_tensor"
   ]
  },
  {
   "cell_type": "code",
   "execution_count": 28,
   "metadata": {},
   "outputs": [
    {
     "data": {
      "text/plain": [
       "tensor([[1., 1., 1., 1.],\n",
       "        [1., 1., 1., 1.],\n",
       "        [1., 1., 1., 1.]])"
      ]
     },
     "execution_count": 28,
     "metadata": {},
     "output_type": "execute_result"
    }
   ],
   "source": [
    " # create a tensor of all ones\n",
    "\n",
    "ones = torch.ones(size=(3,4))\n",
    "ones"
   ]
  },
  {
   "cell_type": "code",
   "execution_count": 29,
   "metadata": {},
   "outputs": [
    {
     "data": {
      "text/plain": [
       "torch.float32"
      ]
     },
     "execution_count": 29,
     "metadata": {},
     "output_type": "execute_result"
    }
   ],
   "source": [
    "ones.dtype"
   ]
  },
  {
   "cell_type": "code",
   "execution_count": 30,
   "metadata": {},
   "outputs": [
    {
     "name": "stdout",
     "output_type": "stream",
     "text": [
      "<class 'torch.Tensor'>\n"
     ]
    }
   ],
   "source": [
    "print(type(ones))"
   ]
  },
  {
   "cell_type": "code",
   "execution_count": 31,
   "metadata": {},
   "outputs": [
    {
     "data": {
      "text/plain": [
       "torch.float32"
      ]
     },
     "execution_count": 31,
     "metadata": {},
     "output_type": "execute_result"
    }
   ],
   "source": [
    "random_tensor.dtype"
   ]
  },
  {
   "cell_type": "markdown",
   "metadata": {},
   "source": [
    "# creating a range of tensor and tensor-like"
   ]
  },
  {
   "cell_type": "code",
   "execution_count": 32,
   "metadata": {},
   "outputs": [
    {
     "data": {
      "text/plain": [
       "tensor([ 0,  2,  4,  6,  8, 10])"
      ]
     },
     "execution_count": 32,
     "metadata": {},
     "output_type": "execute_result"
    }
   ],
   "source": [
    "# use torch.range() and get deprecated message, use torch.arange()\n",
    "one_to_ten=torch.arange(start=0,end=11,step=2)\n",
    "one_to_ten"
   ]
  },
  {
   "cell_type": "code",
   "execution_count": 33,
   "metadata": {},
   "outputs": [],
   "source": [
    "#torch.range(0,10)"
   ]
  },
  {
   "cell_type": "code",
   "execution_count": 34,
   "metadata": {},
   "outputs": [
    {
     "data": {
      "text/plain": [
       "tensor([0, 0, 0, 0, 0, 0])"
      ]
     },
     "execution_count": 34,
     "metadata": {},
     "output_type": "execute_result"
    }
   ],
   "source": [
    "ten_zeroes = torch.zeros_like(input=one_to_ten)\n",
    "ten_zeroes"
   ]
  },
  {
   "cell_type": "markdown",
   "metadata": {},
   "source": [
    "## <b> <span style='color :darkorange' > Tensor Data Type </span> </b>\n",
    "\n",
    "<span style='color :red' >** Note ** Tensor datatypes is one of the 3 big errors you'll run into with PyTorch & deep Learning: </span>\n",
    "- Tensor not right datatype\n",
    "- Tensor not right shape\n",
    "- Tensor not on the right device\n",
    "\n",
    "\n",
    "Precision in Computing - \n",
    "\n",
    "https://syakirharis25.medium.com/computer-number-precision-in-computer-vs-precision-in-mathematics-79504e8f0b0a"
   ]
  },
  {
   "cell_type": "code",
   "execution_count": 35,
   "metadata": {},
   "outputs": [
    {
     "data": {
      "text/plain": [
       "tensor([3., 6., 9.])"
      ]
     },
     "execution_count": 35,
     "metadata": {},
     "output_type": "execute_result"
    }
   ],
   "source": [
    "# Float 32 tensor\n",
    "\n",
    "float_32_tensor=torch.tensor([3.0,6.0,9.0],\n",
    "                             dtype=None)\n",
    "\n",
    "float_32_tensor\n"
   ]
  },
  {
   "cell_type": "code",
   "execution_count": 36,
   "metadata": {},
   "outputs": [
    {
     "data": {
      "text/plain": [
       "torch.float32"
      ]
     },
     "execution_count": 36,
     "metadata": {},
     "output_type": "execute_result"
    }
   ],
   "source": [
    "# though I define dtype as None as default It comes out as float_32\n",
    "float_32_tensor.dtype "
   ]
  },
  {
   "cell_type": "code",
   "execution_count": 37,
   "metadata": {},
   "outputs": [
    {
     "data": {
      "text/plain": [
       "tensor([3., 6., 9.], dtype=torch.float16)"
      ]
     },
     "execution_count": 37,
     "metadata": {},
     "output_type": "execute_result"
    }
   ],
   "source": [
    "# Float 16 tensor\n",
    "\n",
    "float_16_tensor=torch.tensor([3.0,6.0,9.0],\n",
    "                             dtype=torch.float16,\n",
    "                             device=None, \n",
    "                             requires_grad=False)\n",
    "\n",
    "float_16_tensor"
   ]
  },
  {
   "cell_type": "code",
   "execution_count": 38,
   "metadata": {},
   "outputs": [
    {
     "data": {
      "text/plain": [
       "torch.float16"
      ]
     },
     "execution_count": 38,
     "metadata": {},
     "output_type": "execute_result"
    }
   ],
   "source": [
    "float_16_tensor.dtype"
   ]
  },
  {
   "cell_type": "code",
   "execution_count": 39,
   "metadata": {},
   "outputs": [],
   "source": [
    "\n",
    "float_16_tensor1=torch.tensor([3.0,6.0,9.0],\n",
    "                             dtype=torch.float16, # what datatype is the tensor (e.g. https://pytorch.org/docs/stable/tensors.html)\n",
    "                             device=\"cpu\", # To compute properly two tensor must be in same device\n",
    "                             requires_grad=False) # whether or not to track gradients with this operations. "
   ]
  },
  {
   "cell_type": "code",
   "execution_count": 40,
   "metadata": {},
   "outputs": [
    {
     "data": {
      "text/plain": [
       "tensor([3., 6., 9.], dtype=torch.float16)"
      ]
     },
     "execution_count": 40,
     "metadata": {},
     "output_type": "execute_result"
    }
   ],
   "source": [
    "float_16_tensor2=float_32_tensor.type(torch.half)\n",
    "float_16_tensor2"
   ]
  },
  {
   "cell_type": "code",
   "execution_count": 41,
   "metadata": {},
   "outputs": [
    {
     "data": {
      "text/plain": [
       "tensor([3., 6., 9.], dtype=torch.float64)"
      ]
     },
     "execution_count": 41,
     "metadata": {},
     "output_type": "execute_result"
    }
   ],
   "source": [
    "float_64_tensor=float_32_tensor.type(torch.double)\n",
    "float_64_tensor"
   ]
  },
  {
   "cell_type": "code",
   "execution_count": 42,
   "metadata": {},
   "outputs": [
    {
     "data": {
      "text/plain": [
       "tensor([ 9., 36., 81.])"
      ]
     },
     "execution_count": 42,
     "metadata": {},
     "output_type": "execute_result"
    }
   ],
   "source": [
    "float_16_tensor * float_32_tensor"
   ]
  },
  {
   "cell_type": "code",
   "execution_count": 43,
   "metadata": {},
   "outputs": [],
   "source": [
    "int_32_tensor=torch.tensor([3,4,5],\n",
    "                           dtype=torch.int32)"
   ]
  },
  {
   "cell_type": "code",
   "execution_count": 44,
   "metadata": {},
   "outputs": [
    {
     "data": {
      "text/plain": [
       "tensor([3, 4, 5], dtype=torch.int32)"
      ]
     },
     "execution_count": 44,
     "metadata": {},
     "output_type": "execute_result"
    }
   ],
   "source": [
    "int_32_tensor"
   ]
  },
  {
   "cell_type": "code",
   "execution_count": 45,
   "metadata": {},
   "outputs": [
    {
     "data": {
      "text/plain": [
       "tensor([ 9., 24., 45.], dtype=torch.float64)"
      ]
     },
     "execution_count": 45,
     "metadata": {},
     "output_type": "execute_result"
    }
   ],
   "source": [
    "int_32_tensor * float_64_tensor"
   ]
  },
  {
   "cell_type": "code",
   "execution_count": 46,
   "metadata": {},
   "outputs": [
    {
     "data": {
      "text/plain": [
       "tensor([ 1,  2, 34])"
      ]
     },
     "execution_count": 46,
     "metadata": {},
     "output_type": "execute_result"
    }
   ],
   "source": [
    "int_32_tensor1=torch.tensor([1,2,34],\n",
    "                            dtype=torch.long)\n",
    "\n",
    "int_32_tensor1"
   ]
  },
  {
   "cell_type": "markdown",
   "metadata": {},
   "source": [
    "### <span style='color: orange '> Getting information from tensor (Tensor Attributes) : </span>\n",
    " - Tensor not right datatype -> to get datatype from a tensor, can use `tensor.dtype`\n",
    "- Tensor not right shape -> to get shape from a tensor, can use `tensor.shape`\n",
    "- Tensor not on the right device -> to get device from a tensor, can use `tensor.device`"
   ]
  },
  {
   "cell_type": "code",
   "execution_count": 47,
   "metadata": {},
   "outputs": [
    {
     "data": {
      "text/plain": [
       "tensor([[0.6755, 0.9778, 0.8178, 0.6003],\n",
       "        [0.7127, 0.0409, 0.3434, 0.1783],\n",
       "        [0.6581, 0.6743, 0.3480, 0.8279]])"
      ]
     },
     "execution_count": 47,
     "metadata": {},
     "output_type": "execute_result"
    }
   ],
   "source": [
    "# create a tensor\n",
    "\n",
    "some_tensor=torch.rand(3,4)\n",
    "some_tensor"
   ]
  },
  {
   "cell_type": "code",
   "execution_count": 48,
   "metadata": {},
   "outputs": [
    {
     "name": "stdout",
     "output_type": "stream",
     "text": [
      "tensor([[0.6755, 0.9778, 0.8178, 0.6003],\n",
      "        [0.7127, 0.0409, 0.3434, 0.1783],\n",
      "        [0.6581, 0.6743, 0.3480, 0.8279]])\n",
      "Datatype of tensor : torch.float32\n",
      "Shape of the some_tensor : torch.Size([3, 4])\n",
      "Device which is on some_tensor : cpu\n"
     ]
    }
   ],
   "source": [
    "# find out details about some tensor\n",
    "\n",
    "print(some_tensor)\n",
    "print(f\"Datatype of tensor : {some_tensor.dtype}\")\n",
    "print(f\"Shape of the some_tensor : {some_tensor.shape}\")\n",
    "print(f\"Device which is on some_tensor : {some_tensor.device}\")"
   ]
  },
  {
   "cell_type": "code",
   "execution_count": 49,
   "metadata": {},
   "outputs": [],
   "source": [
    "modified_some_tensor=some_tensor.view(4,3)\n",
    "modified_some_tensor=modified_some_tensor.to(torch.float16)\n",
    "modified_some_tensor=modified_some_tensor.to(\"cuda\")"
   ]
  },
  {
   "cell_type": "code",
   "execution_count": 50,
   "metadata": {},
   "outputs": [
    {
     "name": "stdout",
     "output_type": "stream",
     "text": [
      "tensor([[0.6753, 0.9780, 0.8179],\n",
      "        [0.6001, 0.7129, 0.0409],\n",
      "        [0.3435, 0.1782, 0.6582],\n",
      "        [0.6743, 0.3481, 0.8276]], device='cuda:0', dtype=torch.float16)\n",
      "Datatype of modified_some_tensor : torch.float16\n",
      "Shape of the modified_some_tensor : torch.Size([4, 3])\n",
      "Device which is on modified_some_tensor : cuda:0\n"
     ]
    }
   ],
   "source": [
    "# find out details about some tensor\n",
    "\n",
    "print(modified_some_tensor)\n",
    "print(f\"Datatype of modified_some_tensor : {modified_some_tensor.dtype}\")\n",
    "print(f\"Shape of the modified_some_tensor : {modified_some_tensor.shape}\")\n",
    "print(f\"Device which is on modified_some_tensor : {modified_some_tensor.device}\")"
   ]
  },
  {
   "cell_type": "markdown",
   "metadata": {},
   "source": [
    "### <span style='color: turquoise '> Manipulating Tensor : (tensor operation ) </span>\n",
    "\n",
    "<b> Tensor Operations include: <b>\n",
    "- Addition\n",
    "- Substraction\n",
    "- Multiplication (element-wise)\n",
    "- Division\n",
    "- Matrix multiplication"
   ]
  },
  {
   "cell_type": "code",
   "execution_count": 51,
   "metadata": {},
   "outputs": [
    {
     "data": {
      "text/plain": [
       "tensor([11, 12, 13])"
      ]
     },
     "execution_count": 51,
     "metadata": {},
     "output_type": "execute_result"
    }
   ],
   "source": [
    "# create a tensor  and add 10 to it\n",
    "\n",
    "tensor=torch.tensor([1,2,3])\n",
    "tensor + 10"
   ]
  },
  {
   "cell_type": "code",
   "execution_count": 52,
   "metadata": {},
   "outputs": [
    {
     "data": {
      "text/plain": [
       "tensor([10, 20, 30])"
      ]
     },
     "execution_count": 52,
     "metadata": {},
     "output_type": "execute_result"
    }
   ],
   "source": [
    "# multiply tensor by 10\n",
    "tensor  * 10"
   ]
  },
  {
   "cell_type": "code",
   "execution_count": 53,
   "metadata": {},
   "outputs": [
    {
     "data": {
      "text/plain": [
       "tensor([-9, -8, -7])"
      ]
     },
     "execution_count": 53,
     "metadata": {},
     "output_type": "execute_result"
    }
   ],
   "source": [
    "# subtract 10\n",
    "\n",
    "tensor - 10"
   ]
  },
  {
   "cell_type": "code",
   "execution_count": 54,
   "metadata": {},
   "outputs": [
    {
     "name": "stdout",
     "output_type": "stream",
     "text": [
      "tensor([10, 20, 30])\n"
     ]
    },
    {
     "data": {
      "text/plain": [
       "tensor([1., 2., 3.])"
      ]
     },
     "execution_count": 54,
     "metadata": {},
     "output_type": "execute_result"
    }
   ],
   "source": [
    "# Try out torch in-built function\n",
    "\n",
    "tensor=torch.mul(tensor,10)\n",
    "print(tensor)\n",
    "torch.div(tensor,10)"
   ]
  },
  {
   "attachments": {
    "image.png": {
     "image/png": "[encoded data removed]"
    }
   },
   "cell_type": "markdown",
   "metadata": {},
   "source": [
    "####  <span style='color: sandybrown '> Matrix Multiplication </span>\n",
    "\n",
    "Two ways of performing multiplication in neural network and deep Learning :\n",
    "\n",
    "- Element wise multiplication\n",
    "- Matirix multiplication `( DOT PRODUCT ) `\n",
    "\n",
    "IN MATRIX MULTIPLICATION --- \n",
    "\n",
    "\n",
    "To multiply an `m × n` matrix by an `n × p `matrix, the `n ` must be the same,\n",
    "and the result is an `m × p `matrix.\n",
    "\n",
    "\n",
    "![image.png](attachment:image.png)"
   ]
  },
  {
   "cell_type": "code",
   "execution_count": 55,
   "metadata": {},
   "outputs": [
    {
     "name": "stdout",
     "output_type": "stream",
     "text": [
      "tensor([10, 20, 30]) * tensor([10, 20, 30])  =  tensor([100, 400, 900])\n"
     ]
    }
   ],
   "source": [
    "# Element wise multiplication \n",
    "\n",
    "print(tensor ,'*' ,tensor ,' = ',tensor*tensor)"
   ]
  },
  {
   "cell_type": "code",
   "execution_count": 56,
   "metadata": {},
   "outputs": [
    {
     "data": {
      "text/plain": [
       "tensor(1400)"
      ]
     },
     "execution_count": 56,
     "metadata": {},
     "output_type": "execute_result"
    }
   ],
   "source": [
    "# Matrix Multiplication\n",
    "\n",
    "torch.matmul (tensor,tensor)"
   ]
  },
  {
   "cell_type": "code",
   "execution_count": 57,
   "metadata": {},
   "outputs": [
    {
     "data": {
      "text/plain": [
       "(1, torch.Size([3]))"
      ]
     },
     "execution_count": 57,
     "metadata": {},
     "output_type": "execute_result"
    }
   ],
   "source": [
    "tensor.ndim , tensor.shape"
   ]
  },
  {
   "cell_type": "code",
   "execution_count": 58,
   "metadata": {},
   "outputs": [
    {
     "data": {
      "text/plain": [
       "1400"
      ]
     },
     "execution_count": 58,
     "metadata": {},
     "output_type": "execute_result"
    }
   ],
   "source": [
    "# matrix multiplication by hand\n",
    "\n",
    "10*10 + 20*20 + 30 * 30"
   ]
  },
  {
   "cell_type": "code",
   "execution_count": 59,
   "metadata": {},
   "outputs": [
    {
     "data": {
      "text/plain": [
       "tensor(1400)"
      ]
     },
     "execution_count": 59,
     "metadata": {},
     "output_type": "execute_result"
    }
   ],
   "source": [
    "tensor @ tensor"
   ]
  },
  {
   "cell_type": "code",
   "execution_count": 60,
   "metadata": {},
   "outputs": [
    {
     "name": "stdout",
     "output_type": "stream",
     "text": [
      "tensor(1400)\n",
      "CPU times: total: 0 ns\n",
      "Wall time: 1.38 ms\n"
     ]
    }
   ],
   "source": [
    "%%time\n",
    "\n",
    "value=0\n",
    "for i in tensor:\n",
    "    value += i*i\n",
    "\n",
    "print(value)\n"
   ]
  },
  {
   "cell_type": "code",
   "execution_count": 61,
   "metadata": {},
   "outputs": [
    {
     "name": "stdout",
     "output_type": "stream",
     "text": [
      "CPU times: total: 0 ns\n",
      "Wall time: 0 ns\n"
     ]
    },
    {
     "data": {
      "text/plain": [
       "tensor(1400)"
      ]
     },
     "execution_count": 61,
     "metadata": {},
     "output_type": "execute_result"
    }
   ],
   "source": [
    "%%time\n",
    "\n",
    "tensor @ tensor"
   ]
  },
  {
   "cell_type": "code",
   "execution_count": 62,
   "metadata": {},
   "outputs": [
    {
     "name": "stdout",
     "output_type": "stream",
     "text": [
      "CPU times: total: 0 ns\n",
      "Wall time: 0 ns\n"
     ]
    },
    {
     "data": {
      "text/plain": [
       "tensor(1400)"
      ]
     },
     "execution_count": 62,
     "metadata": {},
     "output_type": "execute_result"
    }
   ],
   "source": [
    "%%time\n",
    "\n",
    "torch.matmul(tensor,tensor)"
   ]
  },
  {
   "cell_type": "markdown",
   "metadata": {},
   "source": [
    "### <span style ='color: red'> One of the most common errors in deep Learning is : Shape Errors <span>"
   ]
  },
  {
   "cell_type": "code",
   "execution_count": 63,
   "metadata": {},
   "outputs": [],
   "source": [
    "# Shapes for matrix multiplication \n",
    "\n",
    "tensor_A=torch.tensor([[1,2],\n",
    "                      [3,4],\n",
    "                      [5,6]])\n",
    "\n",
    "tensor_B=torch.tensor([[7,10],\n",
    "                       [8,11],\n",
    "                       [9,12]])"
   ]
  },
  {
   "cell_type": "code",
   "execution_count": 64,
   "metadata": {},
   "outputs": [
    {
     "data": {
      "text/plain": [
       "(2, torch.Size([3, 2]))"
      ]
     },
     "execution_count": 64,
     "metadata": {},
     "output_type": "execute_result"
    }
   ],
   "source": [
    "tensor_A.ndim,tensor_A.shape"
   ]
  },
  {
   "cell_type": "code",
   "execution_count": 65,
   "metadata": {},
   "outputs": [
    {
     "ename": "RuntimeError",
     "evalue": "mat1 and mat2 shapes cannot be multiplied (3x2 and 3x2)",
     "output_type": "error",
     "traceback": [
      "\u001b[1;31m---------------------------------------------------------------------------\u001b[0m",
      "\u001b[1;31mRuntimeError\u001b[0m                              Traceback (most recent call last)",
      "Cell \u001b[1;32mIn[65], line 3\u001b[0m\n\u001b[0;32m      1\u001b[0m \u001b[38;5;66;03m#torch.mm(tensor_A,tensor_B) #torch.mm is the same as torch.matmul  \u001b[39;00m\n\u001b[1;32m----> 3\u001b[0m \u001b[43mtorch\u001b[49m\u001b[38;5;241;43m.\u001b[39;49m\u001b[43mmatmul\u001b[49m\u001b[43m(\u001b[49m\u001b[43mtensor_A\u001b[49m\u001b[43m,\u001b[49m\u001b[43mtensor_B\u001b[49m\u001b[43m)\u001b[49m\n",
      "\u001b[1;31mRuntimeError\u001b[0m: mat1 and mat2 shapes cannot be multiplied (3x2 and 3x2)"
     ]
    }
   ],
   "source": [
    "#torch.mm(tensor_A,tensor_B) #torch.mm is the same as torch.matmul  \n",
    "\n",
    "torch.matmul(tensor_A,tensor_B)"
   ]
  },
  {
   "cell_type": "markdown",
   "metadata": {},
   "source": [
    "To fix our tensor shape issue, we can manipulate the shape of one of our tensors using a **Transpose** \n",
    "\n",
    "A **trasnspose** switches the axes or dimensions of a given tensors"
   ]
  },
  {
   "cell_type": "code",
   "execution_count": null,
   "metadata": {},
   "outputs": [
    {
     "data": {
      "text/plain": [
       "(tensor([[ 7,  8,  9],\n",
       "         [10, 11, 12]]),\n",
       " torch.Size([2, 3]))"
      ]
     },
     "execution_count": 66,
     "metadata": {},
     "output_type": "execute_result"
    }
   ],
   "source": [
    "tensor_B.T , tensor_B.T.shape"
   ]
  },
  {
   "cell_type": "code",
   "execution_count": null,
   "metadata": {},
   "outputs": [
    {
     "data": {
      "text/plain": [
       "(tensor([[ 7, 10],\n",
       "         [ 8, 11],\n",
       "         [ 9, 12]]),\n",
       " torch.Size([3, 2]))"
      ]
     },
     "execution_count": 67,
     "metadata": {},
     "output_type": "execute_result"
    }
   ],
   "source": [
    "tensor_B,tensor_B.shape"
   ]
  },
  {
   "cell_type": "code",
   "execution_count": null,
   "metadata": {},
   "outputs": [
    {
     "data": {
      "text/plain": [
       "tensor([[ 27,  30,  33],\n",
       "        [ 61,  68,  75],\n",
       "        [ 95, 106, 117]])"
      ]
     },
     "execution_count": 68,
     "metadata": {},
     "output_type": "execute_result"
    }
   ],
   "source": [
    "torch.matmul(tensor_A,tensor_B.T)"
   ]
  },
  {
   "cell_type": "code",
   "execution_count": null,
   "metadata": {},
   "outputs": [
    {
     "name": "stdout",
     "output_type": "stream",
     "text": [
      "Original shapes : tensor_A = torch.Size([3, 2]), tensor_B = torch.Size([3, 2])\n",
      "New shsapes: tensor_A = torch.Size([3, 2]) ( same shape as avobe ) , tensor_B = torch.Size([2, 3])\n",
      "Multiplying : torch.Size([3, 2]) @ torch.Size([2, 3]) <- inner dimension must match\n",
      "Output : \n",
      " \n",
      "tensor([[ 27,  30,  33],\n",
      "        [ 61,  68,  75],\n",
      "        [ 95, 106, 117]])\n",
      "\n",
      " Output shape :  torch.Size([3, 3])\n"
     ]
    }
   ],
   "source": [
    "# The matrix multiplication operation works when tensor_B is transposed\n",
    "\n",
    "print(f\"Original shapes : tensor_A = { tensor_A.shape}, tensor_B = {tensor_B.shape}\")\n",
    "print(f\"New shsapes: tensor_A = {tensor_A.shape} ( same shape as avobe ) , tensor_B = {tensor_B.T.shape}\")\n",
    "print(f\"Multiplying : {tensor_A.shape} @ {tensor_B.T.shape} <- inner dimension must match\")\n",
    "print(\"Output : \\n \")\n",
    "output= torch.matmul(tensor_A , tensor_B.T)\n",
    "print(output)\n",
    "\n",
    "print(f\"\\n Output shape : \",output.shape)"
   ]
  },
  {
   "cell_type": "markdown",
   "metadata": {},
   "source": [
    "### <span style='color :hotpink '> Finding the min, max,mean,sum etc ( tensor aggregation)"
   ]
  },
  {
   "cell_type": "code",
   "execution_count": null,
   "metadata": {},
   "outputs": [
    {
     "data": {
      "text/plain": [
       "tensor([[[ 0,  5, 10, 15, 20],\n",
       "         [25, 30, 35, 40, 45]],\n",
       "\n",
       "        [[50, 55, 60, 65, 70],\n",
       "         [75, 80, 85, 90, 95]]])"
      ]
     },
     "execution_count": 70,
     "metadata": {},
     "output_type": "execute_result"
    }
   ],
   "source": [
    "# create a tensor\n",
    "\n",
    "x=torch.arange(0,100,5)\n",
    "x=x.view(2,2,5)\n",
    "x"
   ]
  },
  {
   "cell_type": "code",
   "execution_count": null,
   "metadata": {},
   "outputs": [
    {
     "data": {
      "text/plain": [
       "(tensor(0), tensor(0))"
      ]
     },
     "execution_count": 71,
     "metadata": {},
     "output_type": "execute_result"
    }
   ],
   "source": [
    "#find the min\n",
    "\n",
    "torch.min(x),x.min()"
   ]
  },
  {
   "cell_type": "code",
   "execution_count": null,
   "metadata": {},
   "outputs": [
    {
     "data": {
      "text/plain": [
       "(tensor(95), tensor(95))"
      ]
     },
     "execution_count": 72,
     "metadata": {},
     "output_type": "execute_result"
    }
   ],
   "source": [
    "#find the max\n",
    "\n",
    "torch.max(x), x.max()"
   ]
  },
  {
   "cell_type": "code",
   "execution_count": null,
   "metadata": {},
   "outputs": [
    {
     "ename": "RuntimeError",
     "evalue": "Can only calculate the mean of floating types. Got Long instead.",
     "output_type": "error",
     "traceback": [
      "\u001b[1;31m---------------------------------------------------------------------------\u001b[0m",
      "\u001b[1;31mRuntimeError\u001b[0m                              Traceback (most recent call last)",
      "Cell \u001b[1;32mIn[73], line 1\u001b[0m\n\u001b[1;32m----> 1\u001b[0m \u001b[43mx\u001b[49m\u001b[38;5;241;43m.\u001b[39;49m\u001b[43mmean\u001b[49m\u001b[43m(\u001b[49m\u001b[43m)\u001b[49m\n",
      "\u001b[1;31mRuntimeError\u001b[0m: Can only calculate the mean of floating types. Got Long instead."
     ]
    }
   ],
   "source": [
    "x.mean()"
   ]
  },
  {
   "cell_type": "code",
   "execution_count": null,
   "metadata": {},
   "outputs": [
    {
     "data": {
      "text/plain": [
       "torch.int64"
      ]
     },
     "execution_count": 74,
     "metadata": {},
     "output_type": "execute_result"
    }
   ],
   "source": [
    "x.dtype"
   ]
  },
  {
   "cell_type": "code",
   "execution_count": null,
   "metadata": {},
   "outputs": [],
   "source": [
    "x=x.to(torch.float32)"
   ]
  },
  {
   "cell_type": "code",
   "execution_count": null,
   "metadata": {},
   "outputs": [
    {
     "data": {
      "text/plain": [
       "(tensor(47.5000), tensor(47.5000))"
      ]
     },
     "execution_count": 76,
     "metadata": {},
     "output_type": "execute_result"
    }
   ],
   "source": [
    "# find the mean - note : the torch.mean() function requires a tensor of float32 datatype to work\n",
    "x.mean(), torch.mean(x)"
   ]
  },
  {
   "cell_type": "code",
   "execution_count": null,
   "metadata": {},
   "outputs": [
    {
     "data": {
      "text/plain": [
       "(tensor(950.), tensor(950.))"
      ]
     },
     "execution_count": 77,
     "metadata": {},
     "output_type": "execute_result"
    }
   ],
   "source": [
    "# find the sum \n",
    "torch.sum(x), x.sum()"
   ]
  },
  {
   "cell_type": "markdown",
   "metadata": {},
   "source": [
    "### Finding the positional min and max"
   ]
  },
  {
   "cell_type": "code",
   "execution_count": null,
   "metadata": {},
   "outputs": [
    {
     "data": {
      "text/plain": [
       "tensor([[[32.1742, 62.7900, 68.7516, 85.4065, 23.1470],\n",
       "         [17.3427, 48.8085, 63.1659, 92.1119, 83.9216]],\n",
       "\n",
       "        [[39.0390, 48.7815,  9.9065, 36.7167, 76.0316],\n",
       "         [ 9.5417,  4.0920,  9.3965, 74.0872, 47.0108]]])"
      ]
     },
     "execution_count": 78,
     "metadata": {},
     "output_type": "execute_result"
    }
   ],
   "source": [
    "x=torch.rand(size=(2,2,5))\n",
    "x *=100\n",
    "x"
   ]
  },
  {
   "cell_type": "code",
   "execution_count": null,
   "metadata": {},
   "outputs": [
    {
     "data": {
      "text/plain": [
       "tensor(16)"
      ]
     },
     "execution_count": 79,
     "metadata": {},
     "output_type": "execute_result"
    }
   ],
   "source": [
    "x.argmin()"
   ]
  },
  {
   "cell_type": "code",
   "execution_count": null,
   "metadata": {},
   "outputs": [
    {
     "data": {
      "text/plain": [
       "tensor(8)"
      ]
     },
     "execution_count": 80,
     "metadata": {},
     "output_type": "execute_result"
    }
   ],
   "source": [
    "torch.argmax(x)"
   ]
  },
  {
   "cell_type": "code",
   "execution_count": null,
   "metadata": {},
   "outputs": [
    {
     "data": {
      "text/plain": [
       "tensor(63.1659)"
      ]
     },
     "execution_count": 81,
     "metadata": {},
     "output_type": "execute_result"
    }
   ],
   "source": [
    "x[0,1,2]"
   ]
  },
  {
   "cell_type": "markdown",
   "metadata": {},
   "source": [
    "## Reshaping , stacking , squeezing and unsqueezing tensor\n",
    "\n",
    "* reshaping - reshapes an input tensor to define shape\n",
    "* view - Returns a view of an input tensor of certain shape but keep the smae memory as the original tensor\n",
    "* stacking - combine multiple tensor on top of each other (vstack ) or side by side (hstack)\n",
    "* Squeeze - remove all `1` dimensions from a tensor\n",
    "* ussqueeze - add a `1` dimension to a target tensor\n",
    "* Permute - Return a view of the input with dimension permute( swapped ) in a certain way"
   ]
  },
  {
   "cell_type": "code",
   "execution_count": null,
   "metadata": {},
   "outputs": [
    {
     "data": {
      "text/plain": [
       "(tensor([[[32, 62, 68, 85, 23],\n",
       "          [17, 48, 63, 92, 83]],\n",
       " \n",
       "         [[39, 48,  9, 36, 76],\n",
       "          [ 9,  4,  9, 74, 47]]], dtype=torch.int32),\n",
       " torch.Size([2, 2, 5]))"
      ]
     },
     "execution_count": 82,
     "metadata": {},
     "output_type": "execute_result"
    }
   ],
   "source": [
    "# Let's create a tensor\n",
    "\n",
    "x_tensor=x.to(torch.int32)\n",
    "x_tensor , x_tensor.shape"
   ]
  },
  {
   "cell_type": "code",
   "execution_count": null,
   "metadata": {},
   "outputs": [
    {
     "data": {
      "text/plain": [
       "(tensor([[32, 62, 68, 85, 23],\n",
       "         [17, 48, 63, 92, 83],\n",
       "         [39, 48,  9, 36, 76],\n",
       "         [ 9,  4,  9, 74, 47]], dtype=torch.int32),\n",
       " torch.Size([4, 5]))"
      ]
     },
     "execution_count": 83,
     "metadata": {},
     "output_type": "execute_result"
    }
   ],
   "source": [
    "# remove an extra dimension \n",
    "\n",
    "x_tensor=x_tensor.reshape(4,5)\n",
    "x_tensor,x_tensor.shape"
   ]
  },
  {
   "cell_type": "code",
   "execution_count": null,
   "metadata": {},
   "outputs": [
    {
     "data": {
      "text/plain": [
       "(tensor([[[32, 62, 68, 85, 23],\n",
       "          [17, 48, 63, 92, 83],\n",
       "          [39, 48,  9, 36, 76],\n",
       "          [ 9,  4,  9, 74, 47]]], dtype=torch.int32),\n",
       " torch.Size([1, 4, 5]))"
      ]
     },
     "execution_count": 84,
     "metadata": {},
     "output_type": "execute_result"
    }
   ],
   "source": [
    "# add and extra dimension \n",
    "x_tensor=x_tensor.reshape(1,4,5)\n",
    "x_tensor,x_tensor.shape"
   ]
  },
  {
   "cell_type": "code",
   "execution_count": null,
   "metadata": {},
   "outputs": [
    {
     "data": {
      "text/plain": [
       "(tensor([[[[32, 62, 68, 85, 23]],\n",
       " \n",
       "          [[17, 48, 63, 92, 83]]],\n",
       " \n",
       " \n",
       "         [[[39, 48,  9, 36, 76]],\n",
       " \n",
       "          [[ 9,  4,  9, 74, 47]]]], dtype=torch.int32),\n",
       " torch.Size([2, 2, 1, 5]))"
      ]
     },
     "execution_count": 85,
     "metadata": {},
     "output_type": "execute_result"
    }
   ],
   "source": [
    "# Change the view\n",
    "z=x_tensor.view(2,2,1,5)\n",
    "z, z.shape"
   ]
  },
  {
   "cell_type": "code",
   "execution_count": null,
   "metadata": {},
   "outputs": [
    {
     "data": {
      "text/plain": [
       "(tensor([[[[ 5,  5,  5,  5,  5]],\n",
       " \n",
       "          [[17, 48, 63, 92, 83]]],\n",
       " \n",
       " \n",
       "         [[[ 5,  5,  5,  5,  5]],\n",
       " \n",
       "          [[ 9,  4,  9, 74, 47]]]], dtype=torch.int32),\n",
       " tensor([[[ 5,  5,  5,  5,  5],\n",
       "          [17, 48, 63, 92, 83],\n",
       "          [ 5,  5,  5,  5,  5],\n",
       "          [ 9,  4,  9, 74, 47]]], dtype=torch.int32))"
      ]
     },
     "execution_count": 86,
     "metadata": {},
     "output_type": "execute_result"
    }
   ],
   "source": [
    "# changing z chages x (because they share the same memory)\n",
    "z[:,0]=5\n",
    "z , x_tensor"
   ]
  },
  {
   "cell_type": "code",
   "execution_count": null,
   "metadata": {},
   "outputs": [
    {
     "data": {
      "text/plain": [
       "tensor([[[[ 5,  5,  5],\n",
       "          [ 5,  5,  5],\n",
       "          [ 5,  5,  5],\n",
       "          [ 5,  5,  5],\n",
       "          [ 5,  5,  5]],\n",
       "\n",
       "         [[17, 17, 17],\n",
       "          [48, 48, 48],\n",
       "          [63, 63, 63],\n",
       "          [92, 92, 92],\n",
       "          [83, 83, 83]],\n",
       "\n",
       "         [[ 5,  5,  5],\n",
       "          [ 5,  5,  5],\n",
       "          [ 5,  5,  5],\n",
       "          [ 5,  5,  5],\n",
       "          [ 5,  5,  5]],\n",
       "\n",
       "         [[ 9,  9,  9],\n",
       "          [ 4,  4,  4],\n",
       "          [ 9,  9,  9],\n",
       "          [74, 74, 74],\n",
       "          [47, 47, 47]]]], dtype=torch.int32)"
      ]
     },
     "execution_count": 87,
     "metadata": {},
     "output_type": "execute_result"
    }
   ],
   "source": [
    "# Stack tensor on top of each other \n",
    "\n",
    "x_stack=torch.stack([x_tensor,x_tensor,x_tensor],dim=3)\n",
    "x_stack"
   ]
  },
  {
   "cell_type": "code",
   "execution_count": null,
   "metadata": {},
   "outputs": [
    {
     "data": {
      "text/plain": [
       "(torch.Size([1, 4, 5, 3]), 4)"
      ]
     },
     "execution_count": 88,
     "metadata": {},
     "output_type": "execute_result"
    }
   ],
   "source": [
    "x_stack.shape ,x_stack.ndim"
   ]
  },
  {
   "cell_type": "code",
   "execution_count": null,
   "metadata": {},
   "outputs": [
    {
     "name": "stdout",
     "output_type": "stream",
     "text": [
      "Previous tensor : tensor([[ 5,  5,  5,  5,  5, 17, 48, 63, 92, 83,  5,  5,  5,  5,  5,  9,  4,  9,\n",
      "         74, 47]], dtype=torch.int32)\n",
      "Previous Shape : torch.Size([1, 20])\n",
      "\n",
      " New tensor : tensor([ 5,  5,  5,  5,  5, 17, 48, 63, 92, 83,  5,  5,  5,  5,  5,  9,  4,  9,\n",
      "        74, 47], dtype=torch.int32)\n",
      "New shape :torch.Size([20]) \n"
     ]
    }
   ],
   "source": [
    "# torch.squeeze() - remove all single dimension from a target tensor\n",
    "\n",
    "x_new=x_tensor.reshape(1,20)\n",
    "\n",
    "print(f\"Previous tensor : {x_new}\")\n",
    "print(f\"Previous Shape : {x_new.shape}\")\n",
    "\n",
    "# Remove extra dimension from x_reshaped\n",
    "x_squeezed=x_new.squeeze()\n",
    "print(f\"\\n New tensor : {x_squeezed}\")\n",
    "print(f\"New shape :{x_squeezed.shape} \")"
   ]
  },
  {
   "cell_type": "code",
   "execution_count": null,
   "metadata": {},
   "outputs": [
    {
     "name": "stdout",
     "output_type": "stream",
     "text": [
      "the previous target :tensor([ 5,  5,  5,  5,  5, 17, 48, 63, 92, 83,  5,  5,  5,  5,  5,  9,  4,  9,\n",
      "        74, 47], dtype=torch.int32)\n",
      "previous shape : torch.Size([20])\n",
      "\n",
      " New tensor : tensor([[ 5,  5,  5,  5,  5, 17, 48, 63, 92, 83,  5,  5,  5,  5,  5,  9,  4,  9,\n",
      "         74, 47]], dtype=torch.int32)\n",
      "new Shape torch.Size([1, 20])\n"
     ]
    }
   ],
   "source": [
    "# torch. unsqueeze( ) add a single dimension to a target tensor at a specific dimension\n",
    "\n",
    "print(f\"the previous target :{x_squeezed}\")\n",
    "print(f\"previous shape : {x_squeezed.shape}\")\n",
    "\n",
    "# Add an extra dimension with unsqueeze \n",
    "\n",
    "x_unsqueezed=x_squeezed.unsqueeze(dim=0)\n",
    "\n",
    "print(f\"\\n New tensor : {x_unsqueezed}\")\n",
    "print(f\"new Shape {x_unsqueezed.shape}\")"
   ]
  },
  {
   "cell_type": "code",
   "execution_count": null,
   "metadata": {},
   "outputs": [
    {
     "name": "stdout",
     "output_type": "stream",
     "text": [
      "Before permutaion the shape : torch.Size([224, 224, 3])\n",
      "\n",
      " After permutaion the shape is : torch.Size([3, 224, 224])\n"
     ]
    }
   ],
   "source": [
    "# Torch.permute - rearrange the dimension of a target tensor in a specific order \n",
    "\n",
    "x_original =torch.rand(size=(224,224,3)) # height , width and color_channel\n",
    "\n",
    "x_original\n",
    "\n",
    "# permute the original tensor to rearrange the axis ( or dim ) order\n",
    "\n",
    "x_permuted=x_original.permute(2,1,0) # shift axis 0->1 , 1->2 , 2->0 \n",
    "\n",
    "print(f\"Before permutaion the shape : {x_original.shape}\")\n",
    "print(f\"\\n After permutaion the shape is : {x_permuted.shape}\") # color channel , height, width "
   ]
  },
  {
   "cell_type": "code",
   "execution_count": null,
   "metadata": {},
   "outputs": [
    {
     "data": {
      "text/plain": [
       "tensor([[[7.2183e-01, 6.0940e-01, 7.3224e-01],\n",
       "         [1.1451e-01, 3.1012e-01, 7.6163e-01],\n",
       "         [2.2034e-01, 9.3573e-01, 7.5341e-01],\n",
       "         ...,\n",
       "         [8.6348e-01, 4.8209e-01, 4.8979e-01],\n",
       "         [8.9548e-01, 6.9848e-01, 8.4794e-01],\n",
       "         [1.0730e-01, 2.7402e-01, 6.0217e-01]],\n",
       "\n",
       "        [[4.0483e-01, 7.5634e-01, 9.0405e-01],\n",
       "         [8.4003e-01, 6.3278e-01, 1.4144e-01],\n",
       "         [4.7913e-01, 6.0574e-01, 1.1128e-01],\n",
       "         ...,\n",
       "         [1.4957e-01, 4.3168e-01, 9.5429e-01],\n",
       "         [2.2091e-01, 5.0129e-01, 9.2600e-01],\n",
       "         [2.4050e-01, 9.0238e-01, 2.2852e-01]],\n",
       "\n",
       "        [[4.2474e-04, 2.7863e-01, 4.1810e-01],\n",
       "         [6.9336e-02, 3.4792e-01, 4.4234e-02],\n",
       "         [5.6398e-01, 1.3986e-01, 3.6538e-01],\n",
       "         ...,\n",
       "         [1.3521e-01, 6.9283e-01, 2.3843e-01],\n",
       "         [3.0675e-01, 5.4368e-01, 7.0707e-01],\n",
       "         [8.3161e-01, 3.3636e-01, 1.2914e-02]],\n",
       "\n",
       "        ...,\n",
       "\n",
       "        [[6.8309e-01, 5.0001e-01, 9.2036e-01],\n",
       "         [6.1271e-01, 5.6070e-01, 7.3371e-01],\n",
       "         [5.2711e-01, 4.0298e-01, 2.3925e-01],\n",
       "         ...,\n",
       "         [5.6270e-01, 7.9988e-01, 5.8424e-01],\n",
       "         [2.0955e-01, 1.5658e-01, 9.9039e-01],\n",
       "         [4.9619e-01, 7.9739e-01, 1.0352e-01]],\n",
       "\n",
       "        [[1.0177e-01, 8.6102e-01, 8.1210e-01],\n",
       "         [1.2210e-01, 5.6508e-02, 2.8075e-01],\n",
       "         [1.9857e-01, 5.9361e-01, 4.0655e-01],\n",
       "         ...,\n",
       "         [4.7314e-01, 2.8943e-01, 3.9573e-01],\n",
       "         [4.6911e-01, 6.8086e-01, 8.2138e-01],\n",
       "         [6.5183e-01, 6.3576e-01, 8.6827e-01]],\n",
       "\n",
       "        [[4.8148e-02, 5.6533e-01, 5.0366e-02],\n",
       "         [9.0758e-01, 4.7184e-01, 5.2620e-03],\n",
       "         [5.2966e-01, 5.9622e-01, 4.7425e-01],\n",
       "         ...,\n",
       "         [6.5735e-01, 3.1973e-01, 3.6082e-01],\n",
       "         [6.3461e-01, 8.4278e-02, 7.1615e-01],\n",
       "         [5.2941e-01, 5.0412e-01, 9.2349e-01]]])"
      ]
     },
     "execution_count": 92,
     "metadata": {},
     "output_type": "execute_result"
    }
   ],
   "source": [
    "x_original"
   ]
  },
  {
   "cell_type": "markdown",
   "metadata": {},
   "source": [
    "# <span style = 'color : fuchsia  '> Selecting data from the tensor (INDEXING) <span>\n",
    "\n",
    "- Indexing with pytorch is similar to indexing with NumPy"
   ]
  },
  {
   "cell_type": "code",
   "execution_count": null,
   "metadata": {},
   "outputs": [
    {
     "data": {
      "text/plain": [
       "(tensor([[[1, 2, 3],\n",
       "          [4, 5, 6],\n",
       "          [7, 8, 9]]]),\n",
       " torch.Size([1, 3, 3]))"
      ]
     },
     "execution_count": 93,
     "metadata": {},
     "output_type": "execute_result"
    }
   ],
   "source": [
    "# creating a tensor \n",
    "\n",
    "x_data=torch.arange(1,10).reshape(1,3,3)\n",
    "\n",
    "x_data, x_data.shape\n"
   ]
  },
  {
   "cell_type": "code",
   "execution_count": null,
   "metadata": {},
   "outputs": [],
   "source": [
    "x_data1=torch.arange(1,28).reshape(3,3,3)"
   ]
  },
  {
   "cell_type": "code",
   "execution_count": null,
   "metadata": {},
   "outputs": [
    {
     "data": {
      "text/plain": [
       "tensor([[[ 1,  2,  3],\n",
       "         [ 4,  5,  6],\n",
       "         [ 7,  8,  9]],\n",
       "\n",
       "        [[10, 11, 12],\n",
       "         [13, 14, 15],\n",
       "         [16, 17, 18]],\n",
       "\n",
       "        [[19, 20, 21],\n",
       "         [22, 23, 24],\n",
       "         [25, 26, 27]]])"
      ]
     },
     "execution_count": 95,
     "metadata": {},
     "output_type": "execute_result"
    }
   ],
   "source": [
    "x_data1"
   ]
  },
  {
   "cell_type": "code",
   "execution_count": null,
   "metadata": {},
   "outputs": [
    {
     "data": {
      "text/plain": [
       "(tensor([[10, 11, 12],\n",
       "         [13, 14, 15],\n",
       "         [16, 17, 18]]),\n",
       " tensor([13, 14, 15]),\n",
       " tensor(14))"
      ]
     },
     "execution_count": 96,
     "metadata": {},
     "output_type": "execute_result"
    }
   ],
   "source": [
    "# Let's index on the most inner bracket step by step (last dimension)\n",
    "\n",
    "x_data1[1] , x_data1[1][1] , x_data1[1][1][1]"
   ]
  },
  {
   "cell_type": "code",
   "execution_count": null,
   "metadata": {},
   "outputs": [
    {
     "data": {
      "text/plain": [
       "tensor([[[ 1,  2,  3],\n",
       "         [ 4,  5,  6],\n",
       "         [ 7,  8,  9]],\n",
       "\n",
       "        [[10, 11, 12],\n",
       "         [13, 14, 15],\n",
       "         [16, 17, 18]],\n",
       "\n",
       "        [[19, 20, 21],\n",
       "         [22, 23, 24],\n",
       "         [25, 26, 27]]])"
      ]
     },
     "execution_count": 97,
     "metadata": {},
     "output_type": "execute_result"
    }
   ],
   "source": [
    "x_data1"
   ]
  },
  {
   "cell_type": "code",
   "execution_count": null,
   "metadata": {},
   "outputs": [
    {
     "data": {
      "text/plain": [
       "tensor([[[ 1,  2,  3],\n",
       "         [ 4,  5,  6],\n",
       "         [ 7,  8,  9]],\n",
       "\n",
       "        [[10, 11, 12],\n",
       "         [13, 14, 15],\n",
       "         [16, 17, 18]]])"
      ]
     },
     "execution_count": 98,
     "metadata": {},
     "output_type": "execute_result"
    }
   ],
   "source": [
    "x_data1[:2] # row , column and depth"
   ]
  },
  {
   "cell_type": "code",
   "execution_count": null,
   "metadata": {},
   "outputs": [
    {
     "data": {
      "text/plain": [
       "tensor([[[ 1,  2,  3],\n",
       "         [ 4,  5,  6]],\n",
       "\n",
       "        [[10, 11, 12],\n",
       "         [13, 14, 15]]])"
      ]
     },
     "execution_count": 99,
     "metadata": {},
     "output_type": "execute_result"
    }
   ],
   "source": [
    "x_data1[:2,:2]"
   ]
  },
  {
   "cell_type": "code",
   "execution_count": null,
   "metadata": {},
   "outputs": [
    {
     "data": {
      "text/plain": [
       "tensor([[[ 1],\n",
       "         [ 4]],\n",
       "\n",
       "        [[10],\n",
       "         [13]]])"
      ]
     },
     "execution_count": 100,
     "metadata": {},
     "output_type": "execute_result"
    }
   ],
   "source": [
    "x_data1[:2,:2,:1] "
   ]
  },
  {
   "cell_type": "code",
   "execution_count": null,
   "metadata": {},
   "outputs": [
    {
     "data": {
      "text/plain": [
       "tensor([[ 1,  2,  3],\n",
       "        [10, 11, 12],\n",
       "        [19, 20, 21]])"
      ]
     },
     "execution_count": 101,
     "metadata": {},
     "output_type": "execute_result"
    }
   ],
   "source": [
    "# You can also use \" : \" to select \" all \" of a target dimension\n",
    "\n",
    "x_data1[: , 0]"
   ]
  },
  {
   "cell_type": "code",
   "execution_count": null,
   "metadata": {},
   "outputs": [
    {
     "name": "stdout",
     "output_type": "stream",
     "text": [
      "\n"
     ]
    },
    {
     "data": {
      "text/plain": [
       "(tensor([[ 2,  5,  8],\n",
       "         [11, 14, 17],\n",
       "         [20, 23, 26]]),\n",
       " None,\n",
       " tensor([[[ 1,  2,  3],\n",
       "          [ 4,  5,  6],\n",
       "          [ 7,  8,  9]],\n",
       " \n",
       "         [[10, 11, 12],\n",
       "          [13, 14, 15],\n",
       "          [16, 17, 18]],\n",
       " \n",
       "         [[19, 20, 21],\n",
       "          [22, 23, 24],\n",
       "          [25, 26, 27]]]))"
      ]
     },
     "execution_count": 102,
     "metadata": {},
     "output_type": "execute_result"
    }
   ],
   "source": [
    "# Get all values of 0th and 1st dimension but only index 1 of 2nd dimension \n",
    "x_data1[:,:,1], print(\"\"),x_data1"
   ]
  },
  {
   "cell_type": "code",
   "execution_count": null,
   "metadata": {},
   "outputs": [
    {
     "data": {
      "text/plain": [
       "tensor([ 5, 14, 23])"
      ]
     },
     "execution_count": 103,
     "metadata": {},
     "output_type": "execute_result"
    }
   ],
   "source": [
    "# Get all values of the 0 dimension but only the 1 index value of 1st and 2nd dimension\n",
    "\n",
    "x_data1[:,1,1]"
   ]
  },
  {
   "cell_type": "code",
   "execution_count": null,
   "metadata": {},
   "outputs": [
    {
     "data": {
      "text/plain": [
       "tensor([1, 2, 3])"
      ]
     },
     "execution_count": 104,
     "metadata": {},
     "output_type": "execute_result"
    }
   ],
   "source": [
    "# Get index 0  of 0th and 1st dimension and all values of 2nd dimension\n",
    "\n",
    "x_data1[0,0,:]"
   ]
  },
  {
   "cell_type": "code",
   "execution_count": null,
   "metadata": {},
   "outputs": [
    {
     "ename": "IndexError",
     "evalue": "index 1 is out of bounds for dimension 0 with size 1",
     "output_type": "error",
     "traceback": [
      "\u001b[1;31m---------------------------------------------------------------------------\u001b[0m",
      "\u001b[1;31mIndexError\u001b[0m                                Traceback (most recent call last)",
      "Cell \u001b[1;32mIn[105], line 1\u001b[0m\n\u001b[1;32m----> 1\u001b[0m x_data1[\u001b[38;5;241m2\u001b[39m,\u001b[38;5;241m2\u001b[39m,\u001b[38;5;241m2\u001b[39m], \u001b[43mx_data\u001b[49m\u001b[43m[\u001b[49m\u001b[38;5;241;43m1\u001b[39;49m\u001b[43m,\u001b[49m\u001b[38;5;241;43m2\u001b[39;49m\u001b[43m,\u001b[49m\u001b[43m:\u001b[49m\u001b[43m]\u001b[49m\n",
      "\u001b[1;31mIndexError\u001b[0m: index 1 is out of bounds for dimension 0 with size 1"
     ]
    }
   ],
   "source": [
    "x_data1[2,2,2], x_data[1,2,:]"
   ]
  },
  {
   "cell_type": "markdown",
   "metadata": {},
   "source": [
    "# PyTorch tensor & Numpy \n",
    "\n",
    "- Numpy is a popular scientific python numerical computing library.\n",
    "- because of this , PyTorch has functionality to interact with it \n",
    "\n",
    "* Data in NumPy , want in Pythorch tensor -> `torch.from_numpy(ndarry)`\n",
    "* PyTorch tensor -> NumPy -> `torch.Tensor.numpy()`"
   ]
  },
  {
   "cell_type": "code",
   "execution_count": null,
   "metadata": {},
   "outputs": [
    {
     "data": {
      "text/plain": [
       "(array([0., 1., 2., 3., 4., 5., 6., 7.]),\n",
       " tensor([0., 1., 2., 3., 4., 5., 6., 7.], dtype=torch.float64))"
      ]
     },
     "execution_count": 106,
     "metadata": {},
     "output_type": "execute_result"
    }
   ],
   "source": [
    "# NumPy array to Tensor\n",
    "\n",
    "arr=np.arange(8.0)\n",
    "tnsor=torch.from_numpy(arr) #.type(torch.float32) # when converting to numpy to pytorch , pytroch reflect numpy's default datatype of float64 unless specified otherwise\n",
    "arr,tnsor"
   ]
  },
  {
   "cell_type": "code",
   "execution_count": null,
   "metadata": {},
   "outputs": [
    {
     "data": {
      "text/plain": [
       "(dtype('float64'), torch.float64)"
      ]
     },
     "execution_count": 107,
     "metadata": {},
     "output_type": "execute_result"
    }
   ],
   "source": [
    "arr.dtype,tnsor.dtype"
   ]
  },
  {
   "cell_type": "code",
   "execution_count": null,
   "metadata": {},
   "outputs": [
    {
     "data": {
      "text/plain": [
       "(array([1., 2., 3., 4., 5., 6., 7., 8.]),\n",
       " tensor([0., 1., 2., 3., 4., 5., 6., 7.], dtype=torch.float64))"
      ]
     },
     "execution_count": 108,
     "metadata": {},
     "output_type": "execute_result"
    }
   ],
   "source": [
    "# Change the value of array , what will this do to `tensor` ?\n",
    "\n",
    "arr=arr+1\n",
    "arr ,tnsor"
   ]
  },
  {
   "cell_type": "code",
   "execution_count": null,
   "metadata": {},
   "outputs": [
    {
     "data": {
      "text/plain": [
       "(tensor([1., 1., 1., 1., 1., 1., 1.]),\n",
       " array([1., 1., 1., 1., 1., 1., 1.], dtype=float32))"
      ]
     },
     "execution_count": 109,
     "metadata": {},
     "output_type": "execute_result"
    }
   ],
   "source": [
    "# Tensor to NumPy Array\n",
    "\n",
    "tensor=torch.ones(7)\n",
    "numpy_tensor=tensor.numpy()\n",
    "\n",
    "tensor, numpy_tensor"
   ]
  },
  {
   "cell_type": "markdown",
   "metadata": {},
   "source": [
    "# <span style=\"color:orangered\">Re-producability(Try to Take random out of random)</span>\n",
    "\n",
    "**In short how a neural network learns:**\n",
    "\n",
    "` Start with random numbers -> tensor operations -> update random numbers to try and make them better representation of data -> again -> again -> again.....`\n",
    "\n",
    "To reduce the randomness in neural network and PyTorch comes the concept of a **random seed**. \n",
    "Essentially what the random seed does is `flavour` the randomness\n",
    "\n"
   ]
  },
  {
   "cell_type": "code",
   "execution_count": null,
   "metadata": {},
   "outputs": [
    {
     "name": "stdout",
     "output_type": "stream",
     "text": [
      "tensor([[0.7204, 0.9484, 0.4266, 0.5160],\n",
      "        [0.4106, 0.7236, 0.5934, 0.7457],\n",
      "        [0.1691, 0.6243, 0.0595, 0.7188]])\n",
      "tensor([[0.3956, 0.3063, 0.1983, 0.3891],\n",
      "        [0.0925, 0.2420, 0.5978, 0.4897],\n",
      "        [0.0708, 0.2810, 0.1894, 0.6690]])\n",
      "tensor([[False, False, False, False],\n",
      "        [False, False, False, False],\n",
      "        [False, False, False, False]])\n"
     ]
    }
   ],
   "source": [
    "# create two random tensor\n",
    "\n",
    "random_tensor_A=torch.rand(3,4)\n",
    "random_tensor_B=torch.rand(3,4) \n",
    "\n",
    "print(random_tensor_A)\n",
    "print(random_tensor_B)\n",
    "print(random_tensor_A == random_tensor_B)"
   ]
  },
  {
   "cell_type": "code",
   "execution_count": null,
   "metadata": {},
   "outputs": [
    {
     "name": "stdout",
     "output_type": "stream",
     "text": [
      "tensor([[0.8823, 0.9150, 0.3829, 0.9593],\n",
      "        [0.3904, 0.6009, 0.2566, 0.7936],\n",
      "        [0.9408, 0.1332, 0.9346, 0.5936]])\n",
      "tensor([[0.8694, 0.5677, 0.7411, 0.4294],\n",
      "        [0.8854, 0.5739, 0.2666, 0.6274],\n",
      "        [0.2696, 0.4414, 0.2969, 0.8317]])\n",
      "tensor([[False, False, False, False],\n",
      "        [False, False, False, False],\n",
      "        [False, False, False, False]])\n"
     ]
    }
   ],
   "source": [
    "# Let's make some random but reproducible tensors\n",
    "\n",
    "#Set the random seed\n",
    "\n",
    "RANDOM_SEED=42\n",
    "\n",
    "torch.manual_seed(RANDOM_SEED)\n",
    "\n",
    "random_tensor_C=torch.rand(3,4)\n",
    "random_tensor_D=torch.rand(3,4) \n",
    "\n",
    "print(random_tensor_C)\n",
    "print(random_tensor_D)\n",
    "print(random_tensor_C == random_tensor_D)"
   ]
  },
  {
   "cell_type": "code",
   "execution_count": null,
   "metadata": {},
   "outputs": [
    {
     "name": "stdout",
     "output_type": "stream",
     "text": [
      "tensor([[0.8823, 0.9150, 0.3829, 0.9593],\n",
      "        [0.3904, 0.6009, 0.2566, 0.7936],\n",
      "        [0.9408, 0.1332, 0.9346, 0.5936]])\n",
      "tensor([[0.8823, 0.9150, 0.3829, 0.9593],\n",
      "        [0.3904, 0.6009, 0.2566, 0.7936],\n",
      "        [0.9408, 0.1332, 0.9346, 0.5936]])\n",
      "tensor([[True, True, True, True],\n",
      "        [True, True, True, True],\n",
      "        [True, True, True, True]])\n"
     ]
    }
   ],
   "source": [
    "# Let's make some random but reproducible tensors \n",
    "\n",
    "# making two tensor equal\n",
    "\n",
    "#Set the random seed\n",
    "\n",
    "RANDOM_SEED=42\n",
    "\n",
    "torch.manual_seed(RANDOM_SEED)\n",
    "\n",
    "random_tensor_C=torch.rand(3,4)\n",
    "\n",
    "torch.manual_seed(RANDOM_SEED)\n",
    "\n",
    "random_tensor_D=torch.rand(3,4) \n",
    "\n",
    "print(random_tensor_C)\n",
    "print(random_tensor_D)\n",
    "print(random_tensor_C == random_tensor_D)"
   ]
  },
  {
   "cell_type": "markdown",
   "metadata": {},
   "source": [
    "### For extra resources :\n",
    "- https://pytorch.org/docs/stable/notes/randomness.html\n",
    "- https://en.wikipedia.org/wiki/Random_seed"
   ]
  },
  {
   "cell_type": "markdown",
   "metadata": {},
   "source": [
    "## Running tensor an Pytorch objects on the GPUs (and making faster computations)\n",
    "\n",
    " * GPUs = faster computations on numbers , thanks to CUDA + NVIDIA hardware + PyTorch working behind the scenes to make everything lucky "
   ]
  },
  {
   "cell_type": "markdown",
   "metadata": {},
   "source": [
    "### 1. Getting a GPU \n",
    "\n",
    "1. Easiest - Use a Google Colab for a free GPU( options to upgrade as well)\n",
    "2. Use your own GPU - takes a little bit of setup and requires the  investment of purchasing a GPU, there's a lots of option .  see this : https://timdettmers.com/category/deep-learning/\n",
    "3. Use cloud computing - GPU , AWS , Azure , these services allow you to rent computers on the cloud and access them . \n",
    "\n",
    "For 2,3 PyTorch + GPU drivers (CUDA) Takes a little bit of setting up , to do this , refer to pytorch setup documentation - https://pytorch.org/get-started/locally/"
   ]
  },
  {
   "cell_type": "code",
   "execution_count": null,
   "metadata": {},
   "outputs": [
    {
     "name": "stdout",
     "output_type": "stream",
     "text": [
      "Sun Apr  7 03:17:22 2024       \n",
      "+-----------------------------------------------------------------------------+\n",
      "| NVIDIA-SMI 461.79       Driver Version: 461.79       CUDA Version: 11.2     |\n",
      "|-------------------------------+----------------------+----------------------+\n",
      "| GPU  Name            TCC/WDDM | Bus-Id        Disp.A | Volatile Uncorr. ECC |\n",
      "| Fan  Temp  Perf  Pwr:Usage/Cap|         Memory-Usage | GPU-Util  Compute M. |\n",
      "|                               |                      |               MIG M. |\n",
      "|===============================+======================+======================|\n",
      "|   0  GeForce GTX 1650   WDDM  | 00000000:01:00.0  On |                  N/A |\n",
      "| N/A   61C    P0    14W /  N/A |   1134MiB /  4096MiB |     21%      Default |\n",
      "|                               |                      |                  N/A |\n",
      "+-------------------------------+----------------------+----------------------+\n",
      "                                                                               \n",
      "+-----------------------------------------------------------------------------+\n",
      "| Processes:                                                                  |\n",
      "|  GPU   GI   CI        PID   Type   Process name                  GPU Memory |\n",
      "|        ID   ID                                                   Usage      |\n",
      "|=============================================================================|\n",
      "|    0   N/A  N/A      1948    C+G   ...e\\PhoneExperienceHost.exe    N/A      |\n",
      "|    0   N/A  N/A      2568    C+G   ...2txyewy\\CapturePicker.exe    N/A      |\n",
      "|    0   N/A  N/A      3236    C+G   ...icrosoft VS Code\\Code.exe    N/A      |\n",
      "|    0   N/A  N/A      4880    C+G   ...v1g1gvanyjgm\\WhatsApp.exe    N/A      |\n",
      "|    0   N/A  N/A      8772    C+G   Insufficient Permissions        N/A      |\n",
      "|    0   N/A  N/A     10848      C   ...envs\\withtorch\\python.exe    N/A      |\n",
      "|    0   N/A  N/A     11380    C+G   ...n1h2txyewy\\SearchHost.exe    N/A      |\n",
      "|    0   N/A  N/A     12296    C+G   ...420.65\\msedgewebview2.exe    N/A      |\n",
      "|    0   N/A  N/A     13080    C+G   ...artMenuExperienceHost.exe    N/A      |\n",
      "|    0   N/A  N/A     16676    C+G   ...2txyewy\\TextInputHost.exe    N/A      |\n",
      "+-----------------------------------------------------------------------------+\n"
     ]
    }
   ],
   "source": [
    "!nvidia-smi"
   ]
  },
  {
   "cell_type": "markdown",
   "metadata": {},
   "source": [
    "## 2. check for GPU access with PyTorch "
   ]
  },
  {
   "cell_type": "code",
   "execution_count": null,
   "metadata": {},
   "outputs": [
    {
     "data": {
      "text/plain": [
       "True"
      ]
     },
     "execution_count": 114,
     "metadata": {},
     "output_type": "execute_result"
    }
   ],
   "source": [
    "torch.cuda.is_available()"
   ]
  },
  {
   "cell_type": "markdown",
   "metadata": {},
   "source": [
    "For PyTorch since it's capable of running compute on the GPU or CPU , it's best practices to setup device agnostic code : https://pytorch.org/docs/stable/notes/cuda.html#best-practices\n",
    "\n",
    "E.g. run on GPU if available , else default to CPU"
   ]
  },
  {
   "cell_type": "code",
   "execution_count": null,
   "metadata": {},
   "outputs": [
    {
     "data": {
      "text/plain": [
       "'cuda'"
      ]
     },
     "execution_count": 115,
     "metadata": {},
     "output_type": "execute_result"
    }
   ],
   "source": [
    "#setup device agnostics code \n",
    "\n",
    "device=\"cuda\" if torch.cuda.is_available() else \"cpu\"\n",
    "\n",
    "device\n"
   ]
  },
  {
   "cell_type": "code",
   "execution_count": null,
   "metadata": {},
   "outputs": [
    {
     "data": {
      "text/plain": [
       "1"
      ]
     },
     "execution_count": 116,
     "metadata": {},
     "output_type": "execute_result"
    }
   ],
   "source": [
    "# Count number of devices \n",
    "torch.cuda.device_count()"
   ]
  },
  {
   "cell_type": "markdown",
   "metadata": {},
   "source": [
    "## 3. Putting tensors (and models) on the GPU \n",
    "\n",
    "The reason we want our tensors / models on the GPU is because using a GPU results in faster computations."
   ]
  },
  {
   "cell_type": "code",
   "execution_count": null,
   "metadata": {},
   "outputs": [
    {
     "name": "stdout",
     "output_type": "stream",
     "text": [
      "tensor([1, 2, 3]) cpu\n"
     ]
    }
   ],
   "source": [
    "\n",
    "# create a tensor ( default on the CPU )\n",
    "tensor_device=torch.tensor([1,2,3], device='cpu')\n",
    "\n",
    "# tensor not on GPU \n",
    "print(tensor_device,tensor_device.device)"
   ]
  },
  {
   "cell_type": "code",
   "execution_count": null,
   "metadata": {},
   "outputs": [
    {
     "name": "stdout",
     "output_type": "stream",
     "text": [
      "tensor([1, 2, 3]) cpu\n"
     ]
    }
   ],
   "source": [
    "# create a tensor ( default on the CPU )\n",
    "tensor_device=torch.tensor([1,2,3])\n",
    "\n",
    "# tensor not on GPU \n",
    "print(tensor_device,tensor_device.device)"
   ]
  },
  {
   "cell_type": "code",
   "execution_count": null,
   "metadata": {},
   "outputs": [
    {
     "data": {
      "text/plain": [
       "tensor([1, 2, 3], device='cuda:0')"
      ]
     },
     "execution_count": 123,
     "metadata": {},
     "output_type": "execute_result"
    }
   ],
   "source": [
    "# Move tensor to GPU (if available )\n",
    "\n",
    "tensor_on_gpu=tensor_device.to(device)\n",
    "tensor_on_gpu"
   ]
  },
  {
   "cell_type": "markdown",
   "metadata": {},
   "source": [
    "## 4. Moving tensor back to the CPU "
   ]
  },
  {
   "cell_type": "code",
   "execution_count": null,
   "metadata": {},
   "outputs": [
    {
     "ename": "TypeError",
     "evalue": "can't convert cuda:0 device type tensor to numpy. Use Tensor.cpu() to copy the tensor to host memory first.",
     "output_type": "error",
     "traceback": [
      "\u001b[1;31m---------------------------------------------------------------------------\u001b[0m",
      "\u001b[1;31mTypeError\u001b[0m                                 Traceback (most recent call last)",
      "Cell \u001b[1;32mIn[126], line 3\u001b[0m\n\u001b[0;32m      1\u001b[0m \u001b[38;5;66;03m# If tensor is on GPU, can't transform it ot NumPy\u001b[39;00m\n\u001b[1;32m----> 3\u001b[0m \u001b[43mtensor_on_gpu\u001b[49m\u001b[38;5;241;43m.\u001b[39;49m\u001b[43mnumpy\u001b[49m\u001b[43m(\u001b[49m\u001b[43m)\u001b[49m\n",
      "\u001b[1;31mTypeError\u001b[0m: can't convert cuda:0 device type tensor to numpy. Use Tensor.cpu() to copy the tensor to host memory first."
     ]
    }
   ],
   "source": [
    "# If tensor is on GPU, can't transform it ot NumPy\n",
    "\n",
    "tensor_on_gpu.numpy()"
   ]
  },
  {
   "cell_type": "code",
   "execution_count": null,
   "metadata": {},
   "outputs": [
    {
     "data": {
      "text/plain": [
       "array([1, 2, 3], dtype=int64)"
      ]
     },
     "execution_count": 129,
     "metadata": {},
     "output_type": "execute_result"
    }
   ],
   "source": [
    "# To fix the GPU tensor with NumPy issue , we can first set it to the CPU\n",
    "\n",
    "tensor_back_on_cpu=tensor_on_gpu.to('cpu')\n",
    "tensor_back_on_cpu.numpy()"
   ]
  },
  {
   "cell_type": "markdown",
   "metadata": {},
   "source": [
    "  # <b> <p align=\"center\"> <span style=\"color:Red \"> END OF FUNDAMENTALS  </span> </p> </b>"
   ]
  }
 ],
 "metadata": {
  "kernelspec": {
   "display_name": "withtorch",
   "language": "python",
   "name": "python3"
  },
  "language_info": {
   "codemirror_mode": {
    "name": "ipython",
    "version": 3
   },
   "file_extension": ".py",
   "mimetype": "text/x-python",
   "name": "python",
   "nbconvert_exporter": "python",
   "pygments_lexer": "ipython3",
   "version": "3.8.0"
  }
 },
 "nbformat": 4,
 "nbformat_minor": 2
}
